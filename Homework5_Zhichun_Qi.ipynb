{
  "nbformat": 4,
  "nbformat_minor": 0,
  "metadata": {
    "colab": {
      "name": "Homework5_Zhichun_Qi.ipynb",
      "provenance": [],
      "authorship_tag": "ABX9TyNet4UaVmbK/OEr7FRf14vt",
      "include_colab_link": true
    },
    "kernelspec": {
      "name": "python3",
      "display_name": "Python 3"
    }
  },
  "cells": [
    {
      "cell_type": "markdown",
      "metadata": {
        "id": "view-in-github",
        "colab_type": "text"
      },
      "source": [
        "<a href=\"https://colab.research.google.com/github/zhichunqi/Deep-Learning-HW/blob/master/Homework5_Zhichun_Qi.ipynb\" target=\"_parent\"><img src=\"https://colab.research.google.com/assets/colab-badge.svg\" alt=\"Open In Colab\"/></a>"
      ]
    },
    {
      "cell_type": "code",
      "metadata": {
        "id": "5Dz0200Jb3g4",
        "outputId": "d22cc06f-54af-48e8-d69e-98e746bbd2a5",
        "colab": {
          "base_uri": "https://localhost:8080/"
        }
      },
      "source": [
        "from google.colab import drive\n",
        "\n",
        "\n",
        "# Mount Google Drive\n",
        "drive.mount('/content/drive')\n",
        "\n",
        "# Get the absolute path of the current folder\n",
        "abspath_curr = '/content/drive/My Drive/Deep Learning/'\n",
        "\n"
      ],
      "execution_count": 3,
      "outputs": [
        {
          "output_type": "stream",
          "text": [
            "Mounted at /content/drive\n"
          ],
          "name": "stdout"
        }
      ]
    },
    {
      "cell_type": "code",
      "metadata": {
        "id": "CUDa02jlc77s"
      },
      "source": [
        "from pymagnitude import*\n",
        "file_path= abspath_curr+ \"GoogleNews-vectors-negative300.magnitude\""
      ],
      "execution_count": 5,
      "outputs": []
    },
    {
      "cell_type": "code",
      "metadata": {
        "id": "trOp9ruddINm",
        "outputId": "5af76724-9e9c-4e58-d298-5de85a70f793",
        "colab": {
          "base_uri": "https://localhost:8080/"
        }
      },
      "source": [
        "# Install Magnitude on Google Colab\n",
        "! echo \"Installing Magnitude.... (please wait, can take a while)\"\n",
        "! (curl https://raw.githubusercontent.com/plasticityai/magnitude/master/install-colab.sh | /bin/bash 1>/dev/null 2>/dev/null)\n",
        "! echo \"Done installing Magnitude.\""
      ],
      "execution_count": 4,
      "outputs": [
        {
          "output_type": "stream",
          "text": [
            "Installing Magnitude.... (please wait, can take a while)\n",
            "  % Total    % Received % Xferd  Average Speed   Time    Time     Time  Current\n",
            "                                 Dload  Upload   Total   Spent    Left  Speed\n",
            "100   137  100   137    0     0    559      0 --:--:-- --:--:-- --:--:--   559\n",
            "Done installing Magnitude.\n"
          ],
          "name": "stdout"
        }
      ]
    },
    {
      "cell_type": "code",
      "metadata": {
        "id": "xGhUHgapkk9g",
        "outputId": "1186470d-f72a-4124-ac71-b1a67d3b3aa7",
        "colab": {
          "base_uri": "https://localhost:8080/"
        }
      },
      "source": [
        "vectors=Magnitude(file_path)\n",
        "vectors.distance(\"cat\",\"dog\")"
      ],
      "execution_count": 6,
      "outputs": [
        {
          "output_type": "execute_result",
          "data": {
            "text/plain": [
              "0.69145405"
            ]
          },
          "metadata": {
            "tags": []
          },
          "execution_count": 6
        }
      ]
    },
    {
      "cell_type": "code",
      "metadata": {
        "id": "n4QuhjX5UzWz",
        "outputId": "21ae282f-8142-47f6-b30f-f9d9c2e23d4e",
        "colab": {
          "base_uri": "https://localhost:8080/"
        }
      },
      "source": [
        "vectors.dim"
      ],
      "execution_count": 8,
      "outputs": [
        {
          "output_type": "execute_result",
          "data": {
            "text/plain": [
              "300"
            ]
          },
          "metadata": {
            "tags": []
          },
          "execution_count": 8
        }
      ]
    },
    {
      "cell_type": "code",
      "metadata": {
        "id": "5RwsSosvWa28",
        "outputId": "d2b2cb3e-20f6-4def-cc55-72388f37cd68",
        "colab": {
          "base_uri": "https://localhost:8080/"
        }
      },
      "source": [
        "vectors.most_similar(vectors.query(\"picnic\"), topn = 6)"
      ],
      "execution_count": 9,
      "outputs": [
        {
          "output_type": "execute_result",
          "data": {
            "text/plain": [
              "[('picnic', 0.9999998),\n",
              " ('picnics', 0.7400875),\n",
              " ('picnic_lunch', 0.721374),\n",
              " ('Picnic', 0.700534),\n",
              " ('potluck_picnic', 0.6683274),\n",
              " ('picnic_supper', 0.65189123)]"
            ]
          },
          "metadata": {
            "tags": []
          },
          "execution_count": 9
        }
      ]
    },
    {
      "cell_type": "code",
      "metadata": {
        "id": "zlIrmdtgXshK",
        "outputId": "611a870d-6790-4fff-9fc0-4f4466ef38db",
        "colab": {
          "base_uri": "https://localhost:8080/",
          "height": 37
        }
      },
      "source": [
        "vectors.doesnt_match([\"tissue\", \"papyrus\", \"manila\", \"newsprint\",\"parchment\",\"gazette\"])"
      ],
      "execution_count": 11,
      "outputs": [
        {
          "output_type": "execute_result",
          "data": {
            "application/vnd.google.colaboratory.intrinsic+json": {
              "type": "string"
            },
            "text/plain": [
              "'tissue'"
            ]
          },
          "metadata": {
            "tags": []
          },
          "execution_count": 11
        }
      ]
    },
    {
      "cell_type": "code",
      "metadata": {
        "id": "o-18ZZDtYtyk",
        "outputId": "2222934c-c89f-48ca-8fe5-91be9269a1a6",
        "colab": {
          "base_uri": "https://localhost:8080/"
        }
      },
      "source": [
        "vectors.most_similar_cosmul(positive = [\"throw\", \"leg\"], negative = [\"jump\"])"
      ],
      "execution_count": 16,
      "outputs": [
        {
          "output_type": "execute_result",
          "data": {
            "text/plain": [
              "[('forearm', 0.876599),\n",
              " ('metacarpal_bone', 0.8747273),\n",
              " ('elbow', 0.86924946),\n",
              " ('metacarpal_bones', 0.86801016),\n",
              " ('knuckle', 0.8675384),\n",
              " ('shoulder', 0.86726993),\n",
              " ('shin', 0.86424685),\n",
              " ('nonthrowing_shoulder', 0.86377436),\n",
              " ('dislocating_finger', 0.857464),\n",
              " ('pinkie', 0.851935)]"
            ]
          },
          "metadata": {
            "tags": []
          },
          "execution_count": 16
        }
      ]
    },
    {
      "cell_type": "code",
      "metadata": {
        "id": "32UFQ1dwahgj",
        "outputId": "782b99b5-0135-46a2-99d0-c038ed71ce91",
        "colab": {
          "base_uri": "https://localhost:8080/"
        }
      },
      "source": [
        "vectors.most_similar(positive = [\"throw\", \"leg\"], negative = [\"jump\"])"
      ],
      "execution_count": 19,
      "outputs": [
        {
          "output_type": "execute_result",
          "data": {
            "text/plain": [
              "[('forearm', 0.48294652),\n",
              " ('shin', 0.47376165),\n",
              " ('elbow', 0.4679689),\n",
              " ('metacarpal_bone', 0.46781474),\n",
              " ('metacarpal_bones', 0.46605822),\n",
              " ('ankle', 0.46434426),\n",
              " ('shoulder', 0.46183354),\n",
              " ('thigh', 0.45393682),\n",
              " ('knee', 0.4455707),\n",
              " ('ulna_bone', 0.4423491)]"
            ]
          },
          "metadata": {
            "tags": []
          },
          "execution_count": 19
        }
      ]
    }
  ]
}