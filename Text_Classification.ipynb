{
  "nbformat": 4,
  "nbformat_minor": 0,
  "metadata": {
    "colab": {
      "name": "Untitled1.ipynb",
      "provenance": [],
      "authorship_tag": "ABX9TyMzRmdAbIWtpvrJmhvWvC9m",
      "include_colab_link": true
    },
    "kernelspec": {
      "name": "python3",
      "display_name": "Python 3"
    }
  },
  "cells": [
    {
      "cell_type": "markdown",
      "metadata": {
        "id": "view-in-github",
        "colab_type": "text"
      },
      "source": [
        "<a href=\"https://colab.research.google.com/github/zhichunqi/Deep-Learning-HW/blob/master/Text_Classification.ipynb\" target=\"_parent\"><img src=\"https://colab.research.google.com/assets/colab-badge.svg\" alt=\"Open In Colab\"/></a>"
      ]
    },
    {
      "cell_type": "code",
      "metadata": {
        "id": "zIZ5a2e-f7hc",
        "outputId": "42733520-c820-4065-c72d-72841e38674d",
        "colab": {
          "base_uri": "https://localhost:8080/"
        }
      },
      "source": [
        "from google.colab import drive\n",
        "import sys\n",
        "# Mount Google Drive\n",
        "drive.mount('/content/drive')\n",
        "\n",
        "# Get the absolute path of the current folder\n",
        "abspath_curr = '/content/drive/My Drive/Deep Learning'\n",
        "\n",
        "#Loading the data\n",
        "import pandas as pd\n",
        "\n",
        "# Load the raw training data\n",
        "\n",
        "filepath_dict = {'yelp':   abspath_curr + '/Sentiment_Analysis/yelp_labelled.txt',\n",
        "                 'amazon': abspath_curr + '/Sentiment_Analysis/amazon_cells_labelled.txt',\n",
        "                 'imdb':   abspath_curr + '/Sentiment_Analysis/imdb_labelled.txt'}\n",
        "df_list = []\n",
        "\n",
        "for source, filepath in filepath_dict.items():\n",
        "    df = pd.read_csv(filepath, names=['sentence', 'label'], sep='\\t')\n",
        "    df['source'] = source  # Add another column filled with the source name\n",
        "    df_list.append(df)\n",
        "\n",
        "df = pd.concat(df_list)\n",
        "print(df.iloc[0])\n"
      ],
      "execution_count": 4,
      "outputs": [
        {
          "output_type": "stream",
          "text": [
            "Drive already mounted at /content/drive; to attempt to forcibly remount, call drive.mount(\"/content/drive\", force_remount=True).\n",
            "sentence    Wow... Loved this place.\n",
            "label                              1\n",
            "source                          yelp\n",
            "Name: 0, dtype: object\n"
          ],
          "name": "stdout"
        }
      ]
    },
    {
      "cell_type": "code",
      "metadata": {
        "id": "EqSx0Gj4hImy",
        "outputId": "7fe84058-0bf8-4ed7-a4f1-17b97d4cb71d",
        "colab": {
          "base_uri": "https://localhost:8080/"
        }
      },
      "source": [
        "#\n",
        "sentences = ['John likes ice cream', 'John hates chocolate.']\n",
        "from sklearn.feature_extraction.text import CountVectorizer\n",
        "\n",
        "vectorizer = CountVectorizer(min_df=0, lowercase=False)\n",
        "vectorizer.fit(sentences)\n",
        "vectorizer.vocabulary_\n"
      ],
      "execution_count": 5,
      "outputs": [
        {
          "output_type": "execute_result",
          "data": {
            "text/plain": [
              "{'John': 0, 'chocolate': 1, 'cream': 2, 'hates': 3, 'ice': 4, 'likes': 5}"
            ]
          },
          "metadata": {
            "tags": []
          },
          "execution_count": 5
        }
      ]
    },
    {
      "cell_type": "code",
      "metadata": {
        "id": "-H8aVP59hU-u",
        "outputId": "bb501be5-3ee0-40fd-9aaf-40c6e95202e5",
        "colab": {
          "base_uri": "https://localhost:8080/"
        }
      },
      "source": [
        "vectorizer.transform(sentences).toarray()"
      ],
      "execution_count": 6,
      "outputs": [
        {
          "output_type": "execute_result",
          "data": {
            "text/plain": [
              "array([[1, 0, 1, 0, 1, 1],\n",
              "       [1, 1, 0, 1, 0, 0]])"
            ]
          },
          "metadata": {
            "tags": []
          },
          "execution_count": 6
        }
      ]
    },
    {
      "cell_type": "code",
      "metadata": {
        "id": "sijT99dShaGI"
      },
      "source": [
        "from sklearn.model_selection import train_test_split\n",
        "\n",
        "df_yelp = df[df['source'] == 'yelp']\n",
        "\n",
        "sentences = df_yelp['sentence'].values\n",
        "y = df_yelp['label'].values\n",
        "\n",
        "sentences_train, sentences_test, y_train, y_test = train_test_split(\n",
        "    sentences, y, test_size=0.25, random_state=1000)"
      ],
      "execution_count": 7,
      "outputs": []
    },
    {
      "cell_type": "code",
      "metadata": {
        "id": "hegmhEochgVF",
        "outputId": "219275ea-ce3d-44f8-aa87-6282322bdc71",
        "colab": {
          "base_uri": "https://localhost:8080/"
        }
      },
      "source": [
        "from sklearn.feature_extraction.text import CountVectorizer\n",
        "\n",
        "vectorizer = CountVectorizer()\n",
        "vectorizer.fit(sentences_train)\n",
        "\n",
        "X_train = vectorizer.transform(sentences_train)\n",
        "X_test  = vectorizer.transform(sentences_test)\n",
        "X_train"
      ],
      "execution_count": 8,
      "outputs": [
        {
          "output_type": "execute_result",
          "data": {
            "text/plain": [
              "<750x1714 sparse matrix of type '<class 'numpy.int64'>'\n",
              "\twith 7368 stored elements in Compressed Sparse Row format>"
            ]
          },
          "metadata": {
            "tags": []
          },
          "execution_count": 8
        }
      ]
    },
    {
      "cell_type": "code",
      "metadata": {
        "id": "Xocy7w6YivpS",
        "outputId": "c782c129-8685-4b0d-e4da-6d3f97faf03c",
        "colab": {
          "base_uri": "https://localhost:8080/"
        }
      },
      "source": [
        "from sklearn.linear_model import LogisticRegression\n",
        "\n",
        "classifier = LogisticRegression()\n",
        "classifier.fit(X_train, y_train)\n",
        "score = classifier.score(X_test, y_test)\n",
        "\n",
        "print(\"Accuracy:\", score)"
      ],
      "execution_count": 9,
      "outputs": [
        {
          "output_type": "stream",
          "text": [
            "Accuracy: 0.796\n"
          ],
          "name": "stdout"
        }
      ]
    },
    {
      "cell_type": "code",
      "metadata": {
        "id": "p3TLJGqsi3fq",
        "outputId": "7332b064-ccc5-4c98-cd45-bf35d506932e",
        "colab": {
          "base_uri": "https://localhost:8080/"
        }
      },
      "source": [
        "for source in df['source'].unique():\n",
        "    df_source = df[df['source'] == source]\n",
        "    sentences = df_source['sentence'].values\n",
        "    y = df_source['label'].values\n",
        "\n",
        "    sentences_train, sentences_test, y_train, y_test = train_test_split(\n",
        "        sentences, y, test_size=0.25, random_state=1000)\n",
        "\n",
        "    vectorizer = CountVectorizer()\n",
        "    vectorizer.fit(sentences_train)\n",
        "    X_train = vectorizer.transform(sentences_train)\n",
        "    X_test  = vectorizer.transform(sentences_test)\n",
        "\n",
        "    classifier = LogisticRegression()\n",
        "    classifier.fit(X_train, y_train)\n",
        "    score = classifier.score(X_test, y_test)\n",
        "    print('Accuracy for {} data: {:.4f}'.format(source, score))"
      ],
      "execution_count": 10,
      "outputs": [
        {
          "output_type": "stream",
          "text": [
            "Accuracy for yelp data: 0.7960\n",
            "Accuracy for amazon data: 0.7960\n",
            "Accuracy for imdb data: 0.7487\n"
          ],
          "name": "stdout"
        }
      ]
    },
    {
      "cell_type": "code",
      "metadata": {
        "id": "sustQgBHl1wO",
        "outputId": "83b37f0f-7fd5-4123-a8fc-1f6df5947e1f",
        "colab": {
          "base_uri": "https://localhost:8080/"
        }
      },
      "source": [
        "pip install keras"
      ],
      "execution_count": 41,
      "outputs": [
        {
          "output_type": "stream",
          "text": [
            "Requirement already satisfied: keras in /usr/local/lib/python3.6/dist-packages (2.4.3)\n",
            "Requirement already satisfied: pyyaml in /usr/local/lib/python3.6/dist-packages (from keras) (3.13)\n",
            "Requirement already satisfied: scipy>=0.14 in /usr/local/lib/python3.6/dist-packages (from keras) (1.4.1)\n",
            "Requirement already satisfied: h5py in /usr/local/lib/python3.6/dist-packages (from keras) (2.10.0)\n",
            "Requirement already satisfied: numpy>=1.9.1 in /usr/local/lib/python3.6/dist-packages (from keras) (1.18.5)\n",
            "Requirement already satisfied: six in /usr/local/lib/python3.6/dist-packages (from h5py->keras) (1.15.0)\n"
          ],
          "name": "stdout"
        }
      ]
    },
    {
      "cell_type": "code",
      "metadata": {
        "id": "VRMIaM6JjNm9"
      },
      "source": [
        "from keras.models import Sequential\n",
        "from keras import layers\n",
        "\n",
        "input_dim = X_train.shape[1]  # Number of features\n",
        "\n",
        "model = Sequential()\n",
        "model.add(layers.Dense(10, input_dim=input_dim, activation='relu'))\n",
        "model.add(layers.Dense(1, activation='sigmoid'))"
      ],
      "execution_count": 46,
      "outputs": []
    },
    {
      "cell_type": "code",
      "metadata": {
        "id": "aqcDXePEjWic",
        "outputId": "4cabd5bd-0c75-4357-f7c6-933358cbbd6b",
        "colab": {
          "base_uri": "https://localhost:8080/"
        }
      },
      "source": [
        "model.compile(loss='binary_crossentropy', \n",
        "            optimizer='adam', \n",
        "              metrics=['accuracy'])\n",
        "model.summary()\n"
      ],
      "execution_count": 47,
      "outputs": [
        {
          "output_type": "stream",
          "text": [
            "Model: \"sequential_5\"\n",
            "_________________________________________________________________\n",
            "Layer (type)                 Output Shape              Param #   \n",
            "=================================================================\n",
            "dense_10 (Dense)             (None, 10)                25060     \n",
            "_________________________________________________________________\n",
            "dense_11 (Dense)             (None, 1)                 11        \n",
            "=================================================================\n",
            "Total params: 25,071\n",
            "Trainable params: 25,071\n",
            "Non-trainable params: 0\n",
            "_________________________________________________________________\n"
          ],
          "name": "stdout"
        }
      ]
    },
    {
      "cell_type": "code",
      "metadata": {
        "id": "5ZAiF20zj2-j",
        "outputId": "f60853f7-d970-4063-c6f7-a050ee78c243",
        "colab": {
          "base_uri": "https://localhost:8080/"
        }
      },
      "source": [
        "history = model.fit(X_train, y_train,\n",
        "                    epochs=100,\n",
        "                    validation_data=(X_test, y_test),\n",
        "                    batch_size=10)"
      ],
      "execution_count": 34,
      "outputs": [
        {
          "output_type": "stream",
          "text": [
            "Epoch 1/100\n",
            "57/57 [==============================] - 0s 3ms/step - loss: 0.6947 - accuracy: 0.5062 - val_loss: 0.6917 - val_accuracy: 0.5561\n",
            "Epoch 2/100\n",
            "57/57 [==============================] - 0s 2ms/step - loss: 0.6641 - accuracy: 0.7986 - val_loss: 0.6733 - val_accuracy: 0.6898\n",
            "Epoch 3/100\n",
            "57/57 [==============================] - 0s 2ms/step - loss: 0.6077 - accuracy: 0.8610 - val_loss: 0.6841 - val_accuracy: 0.6631\n",
            "Epoch 4/100\n",
            "57/57 [==============================] - 0s 2ms/step - loss: 0.5195 - accuracy: 0.9269 - val_loss: 0.6412 - val_accuracy: 0.7219\n",
            "Epoch 5/100\n",
            "57/57 [==============================] - 0s 2ms/step - loss: 0.4198 - accuracy: 0.9519 - val_loss: 0.6048 - val_accuracy: 0.7433\n",
            "Epoch 6/100\n",
            "57/57 [==============================] - 0s 2ms/step - loss: 0.3319 - accuracy: 0.9715 - val_loss: 0.5432 - val_accuracy: 0.7701\n",
            "Epoch 7/100\n",
            "57/57 [==============================] - 0s 2ms/step - loss: 0.2653 - accuracy: 0.9857 - val_loss: 0.5635 - val_accuracy: 0.7701\n",
            "Epoch 8/100\n",
            "57/57 [==============================] - 0s 2ms/step - loss: 0.2142 - accuracy: 0.9893 - val_loss: 0.5477 - val_accuracy: 0.7701\n",
            "Epoch 9/100\n",
            "57/57 [==============================] - 0s 2ms/step - loss: 0.1765 - accuracy: 0.9911 - val_loss: 0.5391 - val_accuracy: 0.7754\n",
            "Epoch 10/100\n",
            "57/57 [==============================] - 0s 2ms/step - loss: 0.1467 - accuracy: 0.9929 - val_loss: 0.5032 - val_accuracy: 0.7861\n",
            "Epoch 11/100\n",
            "57/57 [==============================] - 0s 2ms/step - loss: 0.1244 - accuracy: 0.9947 - val_loss: 0.5234 - val_accuracy: 0.7861\n",
            "Epoch 12/100\n",
            "57/57 [==============================] - 0s 2ms/step - loss: 0.1062 - accuracy: 0.9947 - val_loss: 0.5091 - val_accuracy: 0.7914\n",
            "Epoch 13/100\n",
            "57/57 [==============================] - 0s 2ms/step - loss: 0.0917 - accuracy: 0.9964 - val_loss: 0.5161 - val_accuracy: 0.7914\n",
            "Epoch 14/100\n",
            "57/57 [==============================] - 0s 2ms/step - loss: 0.0798 - accuracy: 0.9982 - val_loss: 0.5125 - val_accuracy: 0.7914\n",
            "Epoch 15/100\n",
            "57/57 [==============================] - 0s 2ms/step - loss: 0.0701 - accuracy: 0.9964 - val_loss: 0.5436 - val_accuracy: 0.7861\n",
            "Epoch 16/100\n",
            "57/57 [==============================] - 0s 2ms/step - loss: 0.0619 - accuracy: 0.9982 - val_loss: 0.5298 - val_accuracy: 0.7861\n",
            "Epoch 17/100\n",
            "57/57 [==============================] - 0s 2ms/step - loss: 0.0550 - accuracy: 0.9982 - val_loss: 0.5463 - val_accuracy: 0.7807\n",
            "Epoch 18/100\n",
            "57/57 [==============================] - 0s 2ms/step - loss: 0.0492 - accuracy: 0.9982 - val_loss: 0.5397 - val_accuracy: 0.7807\n",
            "Epoch 19/100\n",
            "57/57 [==============================] - 0s 2ms/step - loss: 0.0442 - accuracy: 0.9982 - val_loss: 0.5522 - val_accuracy: 0.7807\n",
            "Epoch 20/100\n",
            "57/57 [==============================] - 0s 2ms/step - loss: 0.0399 - accuracy: 0.9982 - val_loss: 0.5593 - val_accuracy: 0.7754\n",
            "Epoch 21/100\n",
            "57/57 [==============================] - 0s 2ms/step - loss: 0.0362 - accuracy: 0.9982 - val_loss: 0.5602 - val_accuracy: 0.7701\n",
            "Epoch 22/100\n",
            "57/57 [==============================] - 0s 2ms/step - loss: 0.0328 - accuracy: 0.9982 - val_loss: 0.5733 - val_accuracy: 0.7701\n",
            "Epoch 23/100\n",
            "57/57 [==============================] - 0s 2ms/step - loss: 0.0300 - accuracy: 0.9982 - val_loss: 0.5613 - val_accuracy: 0.7701\n",
            "Epoch 24/100\n",
            "57/57 [==============================] - 0s 2ms/step - loss: 0.0275 - accuracy: 0.9982 - val_loss: 0.5691 - val_accuracy: 0.7754\n",
            "Epoch 25/100\n",
            "57/57 [==============================] - 0s 2ms/step - loss: 0.0252 - accuracy: 0.9982 - val_loss: 0.5868 - val_accuracy: 0.7754\n",
            "Epoch 26/100\n",
            "57/57 [==============================] - 0s 2ms/step - loss: 0.0232 - accuracy: 0.9982 - val_loss: 0.5900 - val_accuracy: 0.7754\n",
            "Epoch 27/100\n",
            "57/57 [==============================] - 0s 2ms/step - loss: 0.0213 - accuracy: 0.9982 - val_loss: 0.5908 - val_accuracy: 0.7807\n",
            "Epoch 28/100\n",
            "57/57 [==============================] - 0s 2ms/step - loss: 0.0197 - accuracy: 0.9982 - val_loss: 0.5989 - val_accuracy: 0.7807\n",
            "Epoch 29/100\n",
            "57/57 [==============================] - 0s 2ms/step - loss: 0.0183 - accuracy: 0.9982 - val_loss: 0.6115 - val_accuracy: 0.7807\n",
            "Epoch 30/100\n",
            "57/57 [==============================] - 0s 2ms/step - loss: 0.0169 - accuracy: 0.9982 - val_loss: 0.6104 - val_accuracy: 0.7807\n",
            "Epoch 31/100\n",
            "57/57 [==============================] - 0s 2ms/step - loss: 0.0157 - accuracy: 0.9982 - val_loss: 0.6193 - val_accuracy: 0.7807\n",
            "Epoch 32/100\n",
            "57/57 [==============================] - 0s 2ms/step - loss: 0.0146 - accuracy: 1.0000 - val_loss: 0.6251 - val_accuracy: 0.7807\n",
            "Epoch 33/100\n",
            "57/57 [==============================] - 0s 2ms/step - loss: 0.0136 - accuracy: 1.0000 - val_loss: 0.6218 - val_accuracy: 0.7807\n",
            "Epoch 34/100\n",
            "57/57 [==============================] - 0s 2ms/step - loss: 0.0127 - accuracy: 1.0000 - val_loss: 0.6284 - val_accuracy: 0.7807\n",
            "Epoch 35/100\n",
            "57/57 [==============================] - 0s 2ms/step - loss: 0.0119 - accuracy: 1.0000 - val_loss: 0.6390 - val_accuracy: 0.7807\n",
            "Epoch 36/100\n",
            "57/57 [==============================] - 0s 2ms/step - loss: 0.0112 - accuracy: 1.0000 - val_loss: 0.6576 - val_accuracy: 0.7807\n",
            "Epoch 37/100\n",
            "57/57 [==============================] - 0s 2ms/step - loss: 0.0105 - accuracy: 1.0000 - val_loss: 0.6551 - val_accuracy: 0.7807\n",
            "Epoch 38/100\n",
            "57/57 [==============================] - 0s 2ms/step - loss: 0.0099 - accuracy: 1.0000 - val_loss: 0.6628 - val_accuracy: 0.7754\n",
            "Epoch 39/100\n",
            "57/57 [==============================] - 0s 2ms/step - loss: 0.0094 - accuracy: 1.0000 - val_loss: 0.6723 - val_accuracy: 0.7754\n",
            "Epoch 40/100\n",
            "57/57 [==============================] - 0s 2ms/step - loss: 0.0089 - accuracy: 1.0000 - val_loss: 0.6914 - val_accuracy: 0.7754\n",
            "Epoch 41/100\n",
            "57/57 [==============================] - 0s 2ms/step - loss: 0.0084 - accuracy: 1.0000 - val_loss: 0.6909 - val_accuracy: 0.7754\n",
            "Epoch 42/100\n",
            "57/57 [==============================] - 0s 2ms/step - loss: 0.0079 - accuracy: 1.0000 - val_loss: 0.6907 - val_accuracy: 0.7754\n",
            "Epoch 43/100\n",
            "57/57 [==============================] - 0s 2ms/step - loss: 0.0076 - accuracy: 1.0000 - val_loss: 0.7025 - val_accuracy: 0.7754\n",
            "Epoch 44/100\n",
            "57/57 [==============================] - 0s 2ms/step - loss: 0.0072 - accuracy: 1.0000 - val_loss: 0.7011 - val_accuracy: 0.7754\n",
            "Epoch 45/100\n",
            "57/57 [==============================] - 0s 2ms/step - loss: 0.0068 - accuracy: 1.0000 - val_loss: 0.7083 - val_accuracy: 0.7807\n",
            "Epoch 46/100\n",
            "57/57 [==============================] - 0s 2ms/step - loss: 0.0065 - accuracy: 1.0000 - val_loss: 0.7189 - val_accuracy: 0.7754\n",
            "Epoch 47/100\n",
            "57/57 [==============================] - 0s 2ms/step - loss: 0.0062 - accuracy: 1.0000 - val_loss: 0.7265 - val_accuracy: 0.7754\n",
            "Epoch 48/100\n",
            "57/57 [==============================] - 0s 2ms/step - loss: 0.0059 - accuracy: 1.0000 - val_loss: 0.7302 - val_accuracy: 0.7754\n",
            "Epoch 49/100\n",
            "57/57 [==============================] - 0s 2ms/step - loss: 0.0057 - accuracy: 1.0000 - val_loss: 0.7298 - val_accuracy: 0.7754\n",
            "Epoch 50/100\n",
            "57/57 [==============================] - 0s 2ms/step - loss: 0.0054 - accuracy: 1.0000 - val_loss: 0.7316 - val_accuracy: 0.7754\n",
            "Epoch 51/100\n",
            "57/57 [==============================] - 0s 2ms/step - loss: 0.0052 - accuracy: 1.0000 - val_loss: 0.7403 - val_accuracy: 0.7754\n",
            "Epoch 52/100\n",
            "57/57 [==============================] - 0s 2ms/step - loss: 0.0050 - accuracy: 1.0000 - val_loss: 0.7552 - val_accuracy: 0.7754\n",
            "Epoch 53/100\n",
            "57/57 [==============================] - 0s 2ms/step - loss: 0.0047 - accuracy: 1.0000 - val_loss: 0.7496 - val_accuracy: 0.7754\n",
            "Epoch 54/100\n",
            "57/57 [==============================] - 0s 2ms/step - loss: 0.0046 - accuracy: 1.0000 - val_loss: 0.7749 - val_accuracy: 0.7754\n",
            "Epoch 55/100\n",
            "57/57 [==============================] - 0s 2ms/step - loss: 0.0044 - accuracy: 1.0000 - val_loss: 0.7681 - val_accuracy: 0.7754\n",
            "Epoch 56/100\n",
            "57/57 [==============================] - 0s 2ms/step - loss: 0.0042 - accuracy: 1.0000 - val_loss: 0.7695 - val_accuracy: 0.7754\n",
            "Epoch 57/100\n",
            "57/57 [==============================] - 0s 2ms/step - loss: 0.0041 - accuracy: 1.0000 - val_loss: 0.7798 - val_accuracy: 0.7754\n",
            "Epoch 58/100\n",
            "57/57 [==============================] - 0s 2ms/step - loss: 0.0039 - accuracy: 1.0000 - val_loss: 0.7714 - val_accuracy: 0.7754\n",
            "Epoch 59/100\n",
            "57/57 [==============================] - 0s 2ms/step - loss: 0.0038 - accuracy: 1.0000 - val_loss: 0.7906 - val_accuracy: 0.7754\n",
            "Epoch 60/100\n",
            "57/57 [==============================] - 0s 2ms/step - loss: 0.0037 - accuracy: 1.0000 - val_loss: 0.7943 - val_accuracy: 0.7754\n",
            "Epoch 61/100\n",
            "57/57 [==============================] - 0s 2ms/step - loss: 0.0035 - accuracy: 1.0000 - val_loss: 0.7988 - val_accuracy: 0.7754\n",
            "Epoch 62/100\n",
            "57/57 [==============================] - 0s 2ms/step - loss: 0.0034 - accuracy: 1.0000 - val_loss: 0.8152 - val_accuracy: 0.7754\n",
            "Epoch 63/100\n",
            "57/57 [==============================] - 0s 2ms/step - loss: 0.0033 - accuracy: 1.0000 - val_loss: 0.8158 - val_accuracy: 0.7754\n",
            "Epoch 64/100\n",
            "57/57 [==============================] - 0s 2ms/step - loss: 0.0032 - accuracy: 1.0000 - val_loss: 0.8226 - val_accuracy: 0.7754\n",
            "Epoch 65/100\n",
            "57/57 [==============================] - 0s 2ms/step - loss: 0.0031 - accuracy: 1.0000 - val_loss: 0.8224 - val_accuracy: 0.7754\n",
            "Epoch 66/100\n",
            "57/57 [==============================] - 0s 2ms/step - loss: 0.0030 - accuracy: 1.0000 - val_loss: 0.8182 - val_accuracy: 0.7754\n",
            "Epoch 67/100\n",
            "57/57 [==============================] - 0s 2ms/step - loss: 0.0029 - accuracy: 1.0000 - val_loss: 0.8293 - val_accuracy: 0.7754\n",
            "Epoch 68/100\n",
            "57/57 [==============================] - 0s 2ms/step - loss: 0.0028 - accuracy: 1.0000 - val_loss: 0.8364 - val_accuracy: 0.7754\n",
            "Epoch 69/100\n",
            "57/57 [==============================] - 0s 2ms/step - loss: 0.0027 - accuracy: 1.0000 - val_loss: 0.8338 - val_accuracy: 0.7754\n",
            "Epoch 70/100\n",
            "57/57 [==============================] - 0s 2ms/step - loss: 0.0027 - accuracy: 1.0000 - val_loss: 0.8471 - val_accuracy: 0.7754\n",
            "Epoch 71/100\n",
            "57/57 [==============================] - 0s 2ms/step - loss: 0.0026 - accuracy: 1.0000 - val_loss: 0.8473 - val_accuracy: 0.7701\n",
            "Epoch 72/100\n",
            "57/57 [==============================] - 0s 2ms/step - loss: 0.0025 - accuracy: 1.0000 - val_loss: 0.8508 - val_accuracy: 0.7701\n",
            "Epoch 73/100\n",
            "57/57 [==============================] - 0s 2ms/step - loss: 0.0025 - accuracy: 1.0000 - val_loss: 0.8533 - val_accuracy: 0.7701\n",
            "Epoch 74/100\n",
            "57/57 [==============================] - 0s 2ms/step - loss: 0.0024 - accuracy: 1.0000 - val_loss: 0.8576 - val_accuracy: 0.7701\n",
            "Epoch 75/100\n",
            "57/57 [==============================] - 0s 2ms/step - loss: 0.0023 - accuracy: 1.0000 - val_loss: 0.8618 - val_accuracy: 0.7701\n",
            "Epoch 76/100\n",
            "57/57 [==============================] - 0s 2ms/step - loss: 0.0023 - accuracy: 1.0000 - val_loss: 0.8680 - val_accuracy: 0.7701\n",
            "Epoch 77/100\n",
            "57/57 [==============================] - 0s 2ms/step - loss: 0.0022 - accuracy: 1.0000 - val_loss: 0.8730 - val_accuracy: 0.7701\n",
            "Epoch 78/100\n",
            "57/57 [==============================] - 0s 2ms/step - loss: 0.0022 - accuracy: 1.0000 - val_loss: 0.8695 - val_accuracy: 0.7701\n",
            "Epoch 79/100\n",
            "57/57 [==============================] - 0s 2ms/step - loss: 0.0021 - accuracy: 1.0000 - val_loss: 0.8731 - val_accuracy: 0.7701\n",
            "Epoch 80/100\n",
            "57/57 [==============================] - 0s 2ms/step - loss: 0.0021 - accuracy: 1.0000 - val_loss: 0.8824 - val_accuracy: 0.7701\n",
            "Epoch 81/100\n",
            "57/57 [==============================] - 0s 2ms/step - loss: 0.0020 - accuracy: 1.0000 - val_loss: 0.8812 - val_accuracy: 0.7701\n",
            "Epoch 82/100\n",
            "57/57 [==============================] - 0s 2ms/step - loss: 0.0020 - accuracy: 1.0000 - val_loss: 0.8848 - val_accuracy: 0.7701\n",
            "Epoch 83/100\n",
            "57/57 [==============================] - 0s 2ms/step - loss: 0.0019 - accuracy: 1.0000 - val_loss: 0.8909 - val_accuracy: 0.7701\n",
            "Epoch 84/100\n",
            "57/57 [==============================] - 0s 2ms/step - loss: 0.0019 - accuracy: 1.0000 - val_loss: 0.8981 - val_accuracy: 0.7701\n",
            "Epoch 85/100\n",
            "57/57 [==============================] - 0s 2ms/step - loss: 0.0019 - accuracy: 1.0000 - val_loss: 0.9019 - val_accuracy: 0.7701\n",
            "Epoch 86/100\n",
            "57/57 [==============================] - 0s 2ms/step - loss: 0.0018 - accuracy: 1.0000 - val_loss: 0.9020 - val_accuracy: 0.7701\n",
            "Epoch 87/100\n",
            "57/57 [==============================] - 0s 2ms/step - loss: 0.0018 - accuracy: 1.0000 - val_loss: 0.9037 - val_accuracy: 0.7701\n",
            "Epoch 88/100\n",
            "57/57 [==============================] - 0s 2ms/step - loss: 0.0018 - accuracy: 1.0000 - val_loss: 0.9062 - val_accuracy: 0.7701\n",
            "Epoch 89/100\n",
            "57/57 [==============================] - 0s 2ms/step - loss: 0.0017 - accuracy: 1.0000 - val_loss: 0.9131 - val_accuracy: 0.7701\n",
            "Epoch 90/100\n",
            "57/57 [==============================] - 0s 2ms/step - loss: 0.0017 - accuracy: 1.0000 - val_loss: 0.9186 - val_accuracy: 0.7701\n",
            "Epoch 91/100\n",
            "57/57 [==============================] - 0s 2ms/step - loss: 0.0017 - accuracy: 1.0000 - val_loss: 0.9285 - val_accuracy: 0.7701\n",
            "Epoch 92/100\n",
            "57/57 [==============================] - 0s 2ms/step - loss: 0.0016 - accuracy: 1.0000 - val_loss: 0.9251 - val_accuracy: 0.7701\n",
            "Epoch 93/100\n",
            "57/57 [==============================] - 0s 2ms/step - loss: 0.0016 - accuracy: 1.0000 - val_loss: 0.9259 - val_accuracy: 0.7701\n",
            "Epoch 94/100\n",
            "57/57 [==============================] - 0s 2ms/step - loss: 0.0016 - accuracy: 1.0000 - val_loss: 0.9387 - val_accuracy: 0.7701\n",
            "Epoch 95/100\n",
            "57/57 [==============================] - 0s 2ms/step - loss: 0.0016 - accuracy: 1.0000 - val_loss: 0.9406 - val_accuracy: 0.7701\n",
            "Epoch 96/100\n",
            "57/57 [==============================] - 0s 2ms/step - loss: 0.0015 - accuracy: 1.0000 - val_loss: 0.9410 - val_accuracy: 0.7701\n",
            "Epoch 97/100\n",
            "57/57 [==============================] - 0s 2ms/step - loss: 0.0015 - accuracy: 1.0000 - val_loss: 0.9358 - val_accuracy: 0.7701\n",
            "Epoch 98/100\n",
            "57/57 [==============================] - 0s 2ms/step - loss: 0.0015 - accuracy: 1.0000 - val_loss: 0.9433 - val_accuracy: 0.7701\n",
            "Epoch 99/100\n",
            "57/57 [==============================] - 0s 2ms/step - loss: 0.0015 - accuracy: 1.0000 - val_loss: 0.9394 - val_accuracy: 0.7701\n",
            "Epoch 100/100\n",
            "57/57 [==============================] - 0s 2ms/step - loss: 0.0014 - accuracy: 1.0000 - val_loss: 0.9467 - val_accuracy: 0.7701\n"
          ],
          "name": "stdout"
        }
      ]
    },
    {
      "cell_type": "code",
      "metadata": {
        "id": "N9eI-9hKkBlb",
        "outputId": "085df459-4658-48c9-ac91-ddb830967c20",
        "colab": {
          "base_uri": "https://localhost:8080/"
        }
      },
      "source": [
        "loss, accuracy = model.evaluate(X_train, y_train, verbose=False)\n",
        "print(\"Training Accuracy: {:.4f}\".format(accuracy))\n",
        "loss, accuracy = model.evaluate(X_test, y_test, verbose=False)\n",
        "print(\"Testing Accuracy:  {:.4f}\".format(accuracy))\n"
      ],
      "execution_count": 35,
      "outputs": [
        {
          "output_type": "stream",
          "text": [
            "Training Accuracy: 1.0000\n",
            "Testing Accuracy:  0.7701\n"
          ],
          "name": "stdout"
        }
      ]
    },
    {
      "cell_type": "code",
      "metadata": {
        "id": "cKV0CZ9TkKPL"
      },
      "source": [
        "import matplotlib.pyplot as plt\n",
        "plt.style.use('ggplot')\n",
        "\n",
        "def plot_history(history):\n",
        "    acc = history.history['accuracy']\n",
        "    val_acc = history.history['val_accuracy']\n",
        "    loss = history.history['loss']\n",
        "    val_loss = history.history['val_loss']\n",
        "    x = range(1, len(acc) + 1)\n",
        "\n",
        "    plt.figure(figsize=(12, 5))\n",
        "    plt.subplot(1, 2, 1)\n",
        "    plt.plot(x, acc, 'b', label='Training acc')\n",
        "    plt.plot(x, val_acc, 'r', label='Validation acc')\n",
        "    plt.title('Training and validation accuracy')\n",
        "    plt.legend()\n",
        "    plt.subplot(1, 2, 2)\n",
        "    plt.plot(x, loss, 'b', label='Training loss')\n",
        "    plt.plot(x, val_loss, 'r', label='Validation loss')\n",
        "    plt.title('Training and validation loss')\n",
        "    plt.legend()\n",
        "\n"
      ],
      "execution_count": 50,
      "outputs": []
    },
    {
      "cell_type": "code",
      "metadata": {
        "id": "XsZXI3A4kOGj",
        "outputId": "92588efe-98f9-4210-88d6-0085116a5e60",
        "colab": {
          "base_uri": "https://localhost:8080/",
          "height": 337
        }
      },
      "source": [
        "plot_history(history)"
      ],
      "execution_count": 51,
      "outputs": [
        {
          "output_type": "display_data",
          "data": {
            "image/png": "[encoded data removed]",
            "text/plain": [
              "<Figure size 864x360 with 2 Axes>"
            ]
          },
          "metadata": {
            "tags": []
          }
        }
      ]
    },
    {
      "cell_type": "code",
      "metadata": {
        "id": "7K84FoTjoYHe",
        "outputId": "099012cd-092a-4de8-ad55-66d0eef5ea2c",
        "colab": {
          "base_uri": "https://localhost:8080/"
        }
      },
      "source": [
        "cities = ['London', 'Berlin', 'Berlin', 'New York', 'London']\n",
        "cities"
      ],
      "execution_count": 52,
      "outputs": [
        {
          "output_type": "execute_result",
          "data": {
            "text/plain": [
              "['London', 'Berlin', 'Berlin', 'New York', 'London']"
            ]
          },
          "metadata": {
            "tags": []
          },
          "execution_count": 52
        }
      ]
    },
    {
      "cell_type": "code",
      "metadata": {
        "id": "o36qmrGGocGi",
        "outputId": "2263afe6-725a-43be-f143-34e7d15200ec",
        "colab": {
          "base_uri": "https://localhost:8080/"
        }
      },
      "source": [
        "from sklearn.preprocessing import LabelEncoder\n",
        "\n",
        "encoder = LabelEncoder()\n",
        "city_labels = encoder.fit_transform(cities)\n",
        "city_labels"
      ],
      "execution_count": 53,
      "outputs": [
        {
          "output_type": "execute_result",
          "data": {
            "text/plain": [
              "array([1, 0, 0, 2, 1])"
            ]
          },
          "metadata": {
            "tags": []
          },
          "execution_count": 53
        }
      ]
    },
    {
      "cell_type": "code",
      "metadata": {
        "id": "3Cd9eMjBohqP",
        "outputId": "36ae0cb5-75f0-4e5e-fb7b-083423c73377",
        "colab": {
          "base_uri": "https://localhost:8080/"
        }
      },
      "source": [
        "from sklearn.preprocessing import OneHotEncoder\n",
        "\n",
        "encoder = OneHotEncoder(sparse=False)\n",
        "city_labels = city_labels.reshape((5, 1))\n",
        "encoder.fit_transform(city_labels)"
      ],
      "execution_count": 54,
      "outputs": [
        {
          "output_type": "execute_result",
          "data": {
            "text/plain": [
              "array([[0., 1., 0.],\n",
              "       [1., 0., 0.],\n",
              "       [1., 0., 0.],\n",
              "       [0., 0., 1.],\n",
              "       [0., 1., 0.]])"
            ]
          },
          "metadata": {
            "tags": []
          },
          "execution_count": 54
        }
      ]
    },
    {
      "cell_type": "code",
      "metadata": {
        "id": "4WZqmn1Oon5H",
        "outputId": "d5ffeb6e-9d53-4a87-d582-ee22f7f5c2d7",
        "colab": {
          "base_uri": "https://localhost:8080/"
        }
      },
      "source": [
        "from keras.preprocessing.text import Tokenizer\n",
        "\n",
        "tokenizer = Tokenizer(num_words=10000)\n",
        "tokenizer.fit_on_texts(sentences_train)\n",
        "\n",
        "X_train = tokenizer.texts_to_sequences(sentences_train)\n",
        "X_test = tokenizer.texts_to_sequences(sentences_test)\n",
        "\n",
        "vocab_size = len(tokenizer.word_index) + 1  # Adding 1 because of reserved 0 index\n",
        "\n",
        "print(sentences_train[2])\n",
        "print(X_train[2])"
      ],
      "execution_count": 61,
      "outputs": [
        {
          "output_type": "stream",
          "text": [
            "I am a fan of his ... This movie sucked really bad.  \n",
            "[7, 150, 2, 932, 4, 49, 6, 11, 563, 45, 30]\n"
          ],
          "name": "stdout"
        }
      ]
    },
    {
      "cell_type": "code",
      "metadata": {
        "id": "XBDA620-oxCF",
        "outputId": "78ab686f-1237-4664-eb6c-84571a79f99f",
        "colab": {
          "base_uri": "https://localhost:8080/"
        }
      },
      "source": [
        "for word in ['the', 'all','great','worse']:\n",
        "    print('{}: {}'.format(word, tokenizer.word_index[word]))"
      ],
      "execution_count": 64,
      "outputs": [
        {
          "output_type": "stream",
          "text": [
            "the: 1\n",
            "all: 27\n",
            "great: 44\n",
            "worse: 242\n"
          ],
          "name": "stdout"
        }
      ]
    },
    {
      "cell_type": "code",
      "metadata": {
        "id": "IMvBmMiMpyEN",
        "outputId": "1b7f0cb2-505a-44a7-c3e1-f0510157c204",
        "colab": {
          "base_uri": "https://localhost:8080/"
        }
      },
      "source": [
        "from keras.preprocessing.sequence import pad_sequences\n",
        "\n",
        "maxlen = 100\n",
        "\n",
        "X_train = pad_sequences(X_train, padding='post', maxlen=maxlen)\n",
        "X_test = pad_sequences(X_test, padding='post', maxlen=maxlen)\n",
        "\n",
        "print(X_train[0, :])"
      ],
      "execution_count": 68,
      "outputs": [
        {
          "output_type": "stream",
          "text": [
            "[170 116 390  35   0   0   0   0   0   0   0   0   0   0   0   0   0   0\n",
            "   0   0   0   0   0   0   0   0   0   0   0   0   0   0   0   0   0   0\n",
            "   0   0   0   0   0   0   0   0   0   0   0   0   0   0   0   0   0   0\n",
            "   0   0   0   0   0   0   0   0   0   0   0   0   0   0   0   0   0   0\n",
            "   0   0   0   0   0   0   0   0   0   0   0   0   0   0   0   0   0   0\n",
            "   0   0   0   0   0   0   0   0   0   0]\n"
          ],
          "name": "stdout"
        }
      ]
    },
    {
      "cell_type": "code",
      "metadata": {
        "id": "I-A13NACqC8w",
        "outputId": "495851d2-b627-423f-8ed0-119aa5e02a6a",
        "colab": {
          "base_uri": "https://localhost:8080/"
        }
      },
      "source": [
        "from keras.models import Sequential\n",
        "from keras import layers\n",
        "\n",
        "embedding_dim = 50\n",
        "\n",
        "model = Sequential()\n",
        "model.add(layers.Embedding(input_dim=vocab_size, \n",
        "                           output_dim=embedding_dim, \n",
        "                           input_length=maxlen))\n",
        "model.add(layers.Flatten())\n",
        "model.add(layers.Dense(10, activation='relu'))\n",
        "model.add(layers.Dense(1, activation='sigmoid'))\n",
        "model.compile(optimizer='adam',\n",
        "              loss='binary_crossentropy',\n",
        "              metrics=['accuracy'])\n",
        "model.summary()"
      ],
      "execution_count": 69,
      "outputs": [
        {
          "output_type": "stream",
          "text": [
            "Model: \"sequential_6\"\n",
            "_________________________________________________________________\n",
            "Layer (type)                 Output Shape              Param #   \n",
            "=================================================================\n",
            "embedding (Embedding)        (None, 100, 50)           128750    \n",
            "_________________________________________________________________\n",
            "flatten (Flatten)            (None, 5000)              0         \n",
            "_________________________________________________________________\n",
            "dense_12 (Dense)             (None, 10)                50010     \n",
            "_________________________________________________________________\n",
            "dense_13 (Dense)             (None, 1)                 11        \n",
            "=================================================================\n",
            "Total params: 178,771\n",
            "Trainable params: 178,771\n",
            "Non-trainable params: 0\n",
            "_________________________________________________________________\n"
          ],
          "name": "stdout"
        }
      ]
    },
    {
      "cell_type": "code",
      "metadata": {
        "id": "C8FJefc3qIYm",
        "outputId": "56b9c1d0-9428-4080-d31f-443f44ad752a",
        "colab": {
          "base_uri": "https://localhost:8080/",
          "height": 371
        }
      },
      "source": [
        "history = model.fit(X_train, y_train,\n",
        "                    epochs=20,\n",
        "                    verbose=False,\n",
        "                    validation_data=(X_test, y_test),\n",
        "                    batch_size=10)\n",
        "loss, accuracy = model.evaluate(X_train, y_train, verbose=False)\n",
        "print(\"Training Accuracy: {:.4f}\".format(accuracy))\n",
        "loss, accuracy = model.evaluate(X_test, y_test, verbose=False)\n",
        "print(\"Testing Accuracy:  {:.4f}\".format(accuracy))\n",
        "plot_history(history)"
      ],
      "execution_count": 70,
      "outputs": [
        {
          "output_type": "stream",
          "text": [
            "Training Accuracy: 1.0000\n",
            "Testing Accuracy:  0.6898\n"
          ],
          "name": "stdout"
        },
        {
          "output_type": "display_data",
          "data": {
            "image/png": "[encoded data removed]",
            "text/plain": [
              "<Figure size 864x360 with 2 Axes>"
            ]
          },
          "metadata": {
            "tags": []
          }
        }
      ]
    },
    {
      "cell_type": "code",
      "metadata": {
        "id": "IwtPgLpUqQZG",
        "outputId": "bddfe23c-875a-4b45-b22e-86dc781edf34",
        "colab": {
          "base_uri": "https://localhost:8080/"
        }
      },
      "source": [
        "from keras.models import Sequential\n",
        "from keras import layers\n",
        "\n",
        "embedding_dim = 50\n",
        "\n",
        "model = Sequential()\n",
        "model.add(layers.Embedding(input_dim=vocab_size, \n",
        "                           output_dim=embedding_dim, \n",
        "                           input_length=maxlen))\n",
        "model.add(layers.GlobalMaxPool1D())\n",
        "model.add(layers.Dense(10, activation='relu'))\n",
        "model.add(layers.Dense(1, activation='sigmoid'))\n",
        "model.compile(optimizer='adam',\n",
        "              loss='binary_crossentropy',\n",
        "              metrics=['accuracy'])\n",
        "model.summary()"
      ],
      "execution_count": 71,
      "outputs": [
        {
          "output_type": "stream",
          "text": [
            "Model: \"sequential_7\"\n",
            "_________________________________________________________________\n",
            "Layer (type)                 Output Shape              Param #   \n",
            "=================================================================\n",
            "embedding_1 (Embedding)      (None, 100, 50)           128750    \n",
            "_________________________________________________________________\n",
            "global_max_pooling1d (Global (None, 50)                0         \n",
            "_________________________________________________________________\n",
            "dense_14 (Dense)             (None, 10)                510       \n",
            "_________________________________________________________________\n",
            "dense_15 (Dense)             (None, 1)                 11        \n",
            "=================================================================\n",
            "Total params: 129,271\n",
            "Trainable params: 129,271\n",
            "Non-trainable params: 0\n",
            "_________________________________________________________________\n"
          ],
          "name": "stdout"
        }
      ]
    },
    {
      "cell_type": "code",
      "metadata": {
        "id": "y0MnvmpZqUS_",
        "outputId": "b7f1a019-4329-4492-cf19-5324d38d04c4",
        "colab": {
          "base_uri": "https://localhost:8080/",
          "height": 371
        }
      },
      "source": [
        "history = model.fit(X_train, y_train,\n",
        "                    epochs=50,\n",
        "                    verbose=False,\n",
        "                    validation_data=(X_test, y_test),\n",
        "                    batch_size=10)\n",
        "loss, accuracy = model.evaluate(X_train, y_train, verbose=False)\n",
        "print(\"Training Accuracy: {:.4f}\".format(accuracy))\n",
        "loss, accuracy = model.evaluate(X_test, y_test, verbose=False)\n",
        "print(\"Testing Accuracy:  {:.4f}\".format(accuracy))\n",
        "plot_history(history)"
      ],
      "execution_count": 72,
      "outputs": [
        {
          "output_type": "stream",
          "text": [
            "Training Accuracy: 1.0000\n",
            "Testing Accuracy:  0.7594\n"
          ],
          "name": "stdout"
        },
        {
          "output_type": "display_data",
          "data": {
            "image/png": "[encoded data removed]",
            "text/plain": [
              "<Figure size 864x360 with 2 Axes>"
            ]
          },
          "metadata": {
            "tags": []
          }
        }
      ]
    },
    {
      "cell_type": "code",
      "metadata": {
        "id": "oeG_3FE4qfg1"
      },
      "source": [
        "# import numpy as np\n",
        "\n",
        "#def create_embedding_matrix(filepath, word_index, embedding_dim):\n",
        "    #vocab_size = len(word_index) + 1  # Adding again 1 because of reserved 0 index\n",
        "    #embedding_matrix = np.zeros((vocab_size, embedding_dim))\n",
        "\n",
        "    #with open(filepath) as f:\n",
        "        for line in f:\n",
        "            word, *vector = line.split()\n",
        "            if word in word_index:\n",
        "                idx = word_index[word] \n",
        "                embedding_matrix[idx] = np.array(\n",
        "                    vector, dtype=np.float32)[:embedding_dim]\n",
        "\n",
        "    return embedding_matrix"
      ],
      "execution_count": 74,
      "outputs": []
    },
    {
      "cell_type": "code",
      "metadata": {
        "id": "Noev6EE1qoxW"
      },
      "source": [
        "#embedding_dim = 50\n",
        "embedding_matrix = create_embedding_matrix(\n",
        "...     'data/glove_word_embeddings/glove.6B.50d.txt',\n",
        "...     tokenizer.word_index, embedding_dim)"
      ],
      "execution_count": null,
      "outputs": []
    },
    {
      "cell_type": "code",
      "metadata": {
        "id": "K3PKSFqNqlMw",
        "outputId": "12d35bf5-f77a-4d2b-e493-eab6f935413c",
        "colab": {
          "base_uri": "https://localhost:8080/"
        }
      },
      "source": [
        "embedding_dim = 100\n",
        "\n",
        "model = Sequential()\n",
        "model.add(layers.Embedding(vocab_size, embedding_dim, input_length=maxlen))\n",
        "model.add(layers.Conv1D(128, 5, activation='relu'))\n",
        "model.add(layers.GlobalMaxPooling1D())\n",
        "model.add(layers.Dense(10, activation='relu'))\n",
        "model.add(layers.Dense(1, activation='sigmoid'))\n",
        "model.compile(optimizer='adam',\n",
        "              loss='binary_crossentropy',\n",
        "              metrics=['accuracy'])\n",
        "model.summary()"
      ],
      "execution_count": 75,
      "outputs": [
        {
          "output_type": "stream",
          "text": [
            "Model: \"sequential_8\"\n",
            "_________________________________________________________________\n",
            "Layer (type)                 Output Shape              Param #   \n",
            "=================================================================\n",
            "embedding_2 (Embedding)      (None, 100, 100)          257500    \n",
            "_________________________________________________________________\n",
            "conv1d (Conv1D)              (None, 96, 128)           64128     \n",
            "_________________________________________________________________\n",
            "global_max_pooling1d_1 (Glob (None, 128)               0         \n",
            "_________________________________________________________________\n",
            "dense_16 (Dense)             (None, 10)                1290      \n",
            "_________________________________________________________________\n",
            "dense_17 (Dense)             (None, 1)                 11        \n",
            "=================================================================\n",
            "Total params: 322,929\n",
            "Trainable params: 322,929\n",
            "Non-trainable params: 0\n",
            "_________________________________________________________________\n"
          ],
          "name": "stdout"
        }
      ]
    },
    {
      "cell_type": "code",
      "metadata": {
        "id": "icGPH6VerQ-u",
        "outputId": "8b420d2e-dc9e-4b76-afeb-b6c960197913",
        "colab": {
          "base_uri": "https://localhost:8080/",
          "height": 371
        }
      },
      "source": [
        "history = model.fit(X_train, y_train,\n",
        "                    epochs=10,\n",
        "                    verbose=False,\n",
        "                    validation_data=(X_test, y_test),\n",
        "                    batch_size=10)\n",
        "loss, accuracy = model.evaluate(X_train, y_train, verbose=False)\n",
        "print(\"Training Accuracy: {:.4f}\".format(accuracy))\n",
        "loss, accuracy = model.evaluate(X_test, y_test, verbose=False)\n",
        "print(\"Testing Accuracy:  {:.4f}\".format(accuracy))\n",
        "plot_history(history)"
      ],
      "execution_count": 76,
      "outputs": [
        {
          "output_type": "stream",
          "text": [
            "Training Accuracy: 1.0000\n",
            "Testing Accuracy:  0.7433\n"
          ],
          "name": "stdout"
        },
        {
          "output_type": "display_data",
          "data": {
            "image/png": "[encoded data removed]",
            "text/plain": [
              "<Figure size 864x360 with 2 Axes>"
            ]
          },
          "metadata": {
            "tags": []
          }
        }
      ]
    },
    {
      "cell_type": "code",
      "metadata": {
        "id": "btoqUptqrX7y"
      },
      "source": [
        "def create_model(num_filters, kernel_size, vocab_size, embedding_dim, maxlen):\n",
        "    model = Sequential()\n",
        "    model.add(layers.Embedding(vocab_size, embedding_dim, input_length=maxlen))\n",
        "    model.add(layers.Conv1D(num_filters, kernel_size, activation='relu'))\n",
        "    model.add(layers.GlobalMaxPooling1D())\n",
        "    model.add(layers.Dense(10, activation='relu'))\n",
        "    model.add(layers.Dense(1, activation='sigmoid'))\n",
        "    model.compile(optimizer='adam',\n",
        "                  loss='binary_crossentropy',\n",
        "                  metrics=['accuracy'])\n",
        "    return model"
      ],
      "execution_count": 77,
      "outputs": []
    },
    {
      "cell_type": "code",
      "metadata": {
        "id": "-3Iynk39rbEG"
      },
      "source": [
        "param_grid = dict(num_filters=[32, 64, 128],\n",
        "                  kernel_size=[3, 5, 7],\n",
        "                  vocab_size=[5000], \n",
        "                  embedding_dim=[50],\n",
        "                  maxlen=[100])"
      ],
      "execution_count": 78,
      "outputs": []
    },
    {
      "cell_type": "code",
      "metadata": {
        "id": "BpqlHo-JrgVH",
        "outputId": "eaa3bb59-de35-4af4-bf8f-99a335ebd47e",
        "colab": {
          "base_uri": "https://localhost:8080/"
        }
      },
      "source": [
        "from keras.wrappers.scikit_learn import KerasClassifier\n",
        "from sklearn.model_selection import RandomizedSearchCV\n",
        "\n",
        "# Main settings\n",
        "epochs = 20\n",
        "embedding_dim = 50\n",
        "maxlen = 100\n",
        "output_file = abspath_curr + '/output.txt'\n",
        "\n",
        "# Run grid search for each source (yelp, amazon, imdb)\n",
        "for source, frame in df.groupby('source'):\n",
        "    print('Running grid search for data set :', source)\n",
        "    sentences = df['sentence'].values\n",
        "    y = df['label'].values\n",
        "\n",
        "    # Train-test split\n",
        "    sentences_train, sentences_test, y_train, y_test = train_test_split(\n",
        "        sentences, y, test_size=0.25, random_state=1000)\n",
        "\n",
        "    # Tokenize words\n",
        "    tokenizer = Tokenizer(num_words=5000)\n",
        "    tokenizer.fit_on_texts(sentences_train)\n",
        "    X_train = tokenizer.texts_to_sequences(sentences_train)\n",
        "    X_test = tokenizer.texts_to_sequences(sentences_test)\n",
        "\n",
        "    # Adding 1 because of reserved 0 index\n",
        "    vocab_size = len(tokenizer.word_index) + 1\n",
        "\n",
        "    # Pad sequences with zeros\n",
        "    X_train = pad_sequences(X_train, padding='post', maxlen=maxlen)\n",
        "    X_test = pad_sequences(X_test, padding='post', maxlen=maxlen)\n",
        "\n",
        "    # Parameter grid for grid search\n",
        "    param_grid = dict(num_filters=[32, 64, 128],\n",
        "                      kernel_size=[3, 5, 7],\n",
        "                      vocab_size=[vocab_size],\n",
        "                      embedding_dim=[embedding_dim],\n",
        "                      maxlen=[maxlen])\n",
        "    model = KerasClassifier(build_fn=create_model,\n",
        "                            epochs=epochs, batch_size=10,\n",
        "                            verbose=False)\n",
        "    grid = RandomizedSearchCV(estimator=model, param_distributions=param_grid,\n",
        "                              cv=4, verbose=1, n_iter=5)\n",
        "    grid_result = grid.fit(X_train, y_train)\n",
        "\n",
        "    # Evaluate testing set\n",
        "    test_accuracy = grid.score(X_test, y_test)\n",
        "\n",
        "    # Save and evaluate results\n",
        "    prompt = input(f'finished {source}; write to file and proceed? [y/n]')\n",
        "    if prompt.lower() not in {'y', 'true', 'yes'}:\n",
        "        break\n",
        "    with open(output_file, 'a') as f:\n",
        "        s = ('Running {} data set\\nBest Accuracy : '\n",
        "             '{:.4f}\\n{}\\nTest Accuracy : {:.4f}\\n\\n')\n",
        "        output_string = s.format(\n",
        "            source,\n",
        "            grid_result.best_score_,\n",
        "            grid_result.best_params_,\n",
        "            test_accuracy)\n",
        "        print(output_string)\n",
        "        f.write(output_string)"
      ],
      "execution_count": 85,
      "outputs": [
        {
          "output_type": "stream",
          "text": [
            "Running grid search for data set : amazon\n",
            "Fitting 4 folds for each of 5 candidates, totalling 20 fits\n"
          ],
          "name": "stdout"
        },
        {
          "output_type": "stream",
          "text": [
            "[Parallel(n_jobs=1)]: Using backend SequentialBackend with 1 concurrent workers.\n",
            "[Parallel(n_jobs=1)]: Done  20 out of  20 | elapsed:  8.6min finished\n"
          ],
          "name": "stderr"
        },
        {
          "output_type": "stream",
          "text": [
            "finished amazon; write to file and proceed? [y/n]y\n",
            "Running amazon data set\n",
            "Best Accuracy : 0.8151\n",
            "{'vocab_size': 4603, 'num_filters': 128, 'maxlen': 100, 'kernel_size': 5, 'embedding_dim': 50}\n",
            "Test Accuracy : 0.8311\n",
            "\n",
            "\n",
            "Running grid search for data set : imdb\n",
            "Fitting 4 folds for each of 5 candidates, totalling 20 fits\n"
          ],
          "name": "stdout"
        },
        {
          "output_type": "stream",
          "text": [
            "[Parallel(n_jobs=1)]: Using backend SequentialBackend with 1 concurrent workers.\n",
            "[Parallel(n_jobs=1)]: Done  20 out of  20 | elapsed:  8.7min finished\n"
          ],
          "name": "stderr"
        },
        {
          "output_type": "stream",
          "text": [
            "finished imdb; write to file and proceed? [y/n]y\n",
            "Running imdb data set\n",
            "Best Accuracy : 0.8166\n",
            "{'vocab_size': 4603, 'num_filters': 128, 'maxlen': 100, 'kernel_size': 3, 'embedding_dim': 50}\n",
            "Test Accuracy : 0.8268\n",
            "\n",
            "\n",
            "Running grid search for data set : yelp\n",
            "Fitting 4 folds for each of 5 candidates, totalling 20 fits\n"
          ],
          "name": "stdout"
        },
        {
          "output_type": "stream",
          "text": [
            "[Parallel(n_jobs=1)]: Using backend SequentialBackend with 1 concurrent workers.\n",
            "[Parallel(n_jobs=1)]: Done  20 out of  20 | elapsed:  8.7min finished\n"
          ],
          "name": "stderr"
        },
        {
          "output_type": "stream",
          "text": [
            "finished yelp; write to file and proceed? [y/n]y\n",
            "Running yelp data set\n",
            "Best Accuracy : 0.8166\n",
            "{'vocab_size': 4603, 'num_filters': 32, 'maxlen': 100, 'kernel_size': 7, 'embedding_dim': 50}\n",
            "Test Accuracy : 0.8297\n",
            "\n",
            "\n"
          ],
          "name": "stdout"
        }
      ]
    }
  ]
}