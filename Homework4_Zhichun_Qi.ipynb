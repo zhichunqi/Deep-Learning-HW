{
  "nbformat": 4,
  "nbformat_minor": 0,
  "metadata": {
    "colab": {
      "name": "Homework4_Zhichun_Qi.ipynb",
      "provenance": [],
      "collapsed_sections": [],
      "authorship_tag": "ABX9TyNgfFuTTlHQltTVLRKV3N+l",
      "include_colab_link": true
    },
    "kernelspec": {
      "name": "python3",
      "display_name": "Python 3"
    },
    "accelerator": "GPU",
    "widgets": {
      "application/vnd.jupyter.widget-state+json": {
        "850103d20d204ddc8ddf5612efe3e2c7": {
          "model_module": "@jupyter-widgets/controls",
          "model_name": "HBoxModel",
          "state": {
            "_view_name": "HBoxView",
            "_dom_classes": [],
            "_model_name": "HBoxModel",
            "_view_module": "@jupyter-widgets/controls",
            "_model_module_version": "1.5.0",
            "_view_count": null,
            "_view_module_version": "1.5.0",
            "box_style": "",
            "layout": "IPY_MODEL_e1c478ee6449447cb7f8d8eeced76eab",
            "_model_module": "@jupyter-widgets/controls",
            "children": [
              "IPY_MODEL_921975bf41074f67996bfc92a640161e",
              "IPY_MODEL_07f708a1781f4e0f866dde020dd1a6a2"
            ]
          }
        },
        "e1c478ee6449447cb7f8d8eeced76eab": {
          "model_module": "@jupyter-widgets/base",
          "model_name": "LayoutModel",
          "state": {
            "_view_name": "LayoutView",
            "grid_template_rows": null,
            "right": null,
            "justify_content": null,
            "_view_module": "@jupyter-widgets/base",
            "overflow": null,
            "_model_module_version": "1.2.0",
            "_view_count": null,
            "flex_flow": null,
            "width": null,
            "min_width": null,
            "border": null,
            "align_items": null,
            "bottom": null,
            "_model_module": "@jupyter-widgets/base",
            "top": null,
            "grid_column": null,
            "overflow_y": null,
            "overflow_x": null,
            "grid_auto_flow": null,
            "grid_area": null,
            "grid_template_columns": null,
            "flex": null,
            "_model_name": "LayoutModel",
            "justify_items": null,
            "grid_row": null,
            "max_height": null,
            "align_content": null,
            "visibility": null,
            "align_self": null,
            "height": null,
            "min_height": null,
            "padding": null,
            "grid_auto_rows": null,
            "grid_gap": null,
            "max_width": null,
            "order": null,
            "_view_module_version": "1.2.0",
            "grid_template_areas": null,
            "object_position": null,
            "object_fit": null,
            "grid_auto_columns": null,
            "margin": null,
            "display": null,
            "left": null
          }
        },
        "921975bf41074f67996bfc92a640161e": {
          "model_module": "@jupyter-widgets/controls",
          "model_name": "FloatProgressModel",
          "state": {
            "_view_name": "ProgressView",
            "style": "IPY_MODEL_c9a6065bc4f049eea9129180b219a888",
            "_dom_classes": [],
            "description": "",
            "_model_name": "FloatProgressModel",
            "bar_style": "success",
            "max": 1,
            "_view_module": "@jupyter-widgets/controls",
            "_model_module_version": "1.5.0",
            "value": 1,
            "_view_count": null,
            "_view_module_version": "1.5.0",
            "orientation": "horizontal",
            "min": 0,
            "description_tooltip": null,
            "_model_module": "@jupyter-widgets/controls",
            "layout": "IPY_MODEL_813afff96832418288e9761887680f45"
          }
        },
        "07f708a1781f4e0f866dde020dd1a6a2": {
          "model_module": "@jupyter-widgets/controls",
          "model_name": "HTMLModel",
          "state": {
            "_view_name": "HTMLView",
            "style": "IPY_MODEL_d11e1a30994d421da8a2980fe090ebcc",
            "_dom_classes": [],
            "description": "",
            "_model_name": "HTMLModel",
            "placeholder": "​",
            "_view_module": "@jupyter-widgets/controls",
            "_model_module_version": "1.5.0",
            "value": " 9920512/? [00:07&lt;00:00, 1406586.88it/s]",
            "_view_count": null,
            "_view_module_version": "1.5.0",
            "description_tooltip": null,
            "_model_module": "@jupyter-widgets/controls",
            "layout": "IPY_MODEL_d176da1fb632453684b63edf66a2f7f7"
          }
        },
        "c9a6065bc4f049eea9129180b219a888": {
          "model_module": "@jupyter-widgets/controls",
          "model_name": "ProgressStyleModel",
          "state": {
            "_view_name": "StyleView",
            "_model_name": "ProgressStyleModel",
            "description_width": "initial",
            "_view_module": "@jupyter-widgets/base",
            "_model_module_version": "1.5.0",
            "_view_count": null,
            "_view_module_version": "1.2.0",
            "bar_color": null,
            "_model_module": "@jupyter-widgets/controls"
          }
        },
        "813afff96832418288e9761887680f45": {
          "model_module": "@jupyter-widgets/base",
          "model_name": "LayoutModel",
          "state": {
            "_view_name": "LayoutView",
            "grid_template_rows": null,
            "right": null,
            "justify_content": null,
            "_view_module": "@jupyter-widgets/base",
            "overflow": null,
            "_model_module_version": "1.2.0",
            "_view_count": null,
            "flex_flow": null,
            "width": null,
            "min_width": null,
            "border": null,
            "align_items": null,
            "bottom": null,
            "_model_module": "@jupyter-widgets/base",
            "top": null,
            "grid_column": null,
            "overflow_y": null,
            "overflow_x": null,
            "grid_auto_flow": null,
            "grid_area": null,
            "grid_template_columns": null,
            "flex": null,
            "_model_name": "LayoutModel",
            "justify_items": null,
            "grid_row": null,
            "max_height": null,
            "align_content": null,
            "visibility": null,
            "align_self": null,
            "height": null,
            "min_height": null,
            "padding": null,
            "grid_auto_rows": null,
            "grid_gap": null,
            "max_width": null,
            "order": null,
            "_view_module_version": "1.2.0",
            "grid_template_areas": null,
            "object_position": null,
            "object_fit": null,
            "grid_auto_columns": null,
            "margin": null,
            "display": null,
            "left": null
          }
        },
        "d11e1a30994d421da8a2980fe090ebcc": {
          "model_module": "@jupyter-widgets/controls",
          "model_name": "DescriptionStyleModel",
          "state": {
            "_view_name": "StyleView",
            "_model_name": "DescriptionStyleModel",
            "description_width": "",
            "_view_module": "@jupyter-widgets/base",
            "_model_module_version": "1.5.0",
            "_view_count": null,
            "_view_module_version": "1.2.0",
            "_model_module": "@jupyter-widgets/controls"
          }
        },
        "d176da1fb632453684b63edf66a2f7f7": {
          "model_module": "@jupyter-widgets/base",
          "model_name": "LayoutModel",
          "state": {
            "_view_name": "LayoutView",
            "grid_template_rows": null,
            "right": null,
            "justify_content": null,
            "_view_module": "@jupyter-widgets/base",
            "overflow": null,
            "_model_module_version": "1.2.0",
            "_view_count": null,
            "flex_flow": null,
            "width": null,
            "min_width": null,
            "border": null,
            "align_items": null,
            "bottom": null,
            "_model_module": "@jupyter-widgets/base",
            "top": null,
            "grid_column": null,
            "overflow_y": null,
            "overflow_x": null,
            "grid_auto_flow": null,
            "grid_area": null,
            "grid_template_columns": null,
            "flex": null,
            "_model_name": "LayoutModel",
            "justify_items": null,
            "grid_row": null,
            "max_height": null,
            "align_content": null,
            "visibility": null,
            "align_self": null,
            "height": null,
            "min_height": null,
            "padding": null,
            "grid_auto_rows": null,
            "grid_gap": null,
            "max_width": null,
            "order": null,
            "_view_module_version": "1.2.0",
            "grid_template_areas": null,
            "object_position": null,
            "object_fit": null,
            "grid_auto_columns": null,
            "margin": null,
            "display": null,
            "left": null
          }
        },
        "c99c69a32c0d48a6a830b48fe855889c": {
          "model_module": "@jupyter-widgets/controls",
          "model_name": "HBoxModel",
          "state": {
            "_view_name": "HBoxView",
            "_dom_classes": [],
            "_model_name": "HBoxModel",
            "_view_module": "@jupyter-widgets/controls",
            "_model_module_version": "1.5.0",
            "_view_count": null,
            "_view_module_version": "1.5.0",
            "box_style": "",
            "layout": "IPY_MODEL_9c245451e4c54b0dacc7f37569773eea",
            "_model_module": "@jupyter-widgets/controls",
            "children": [
              "IPY_MODEL_77490256db8f4716b0f28eb152ed2b25",
              "IPY_MODEL_2d8d48d6df2740b2bb15c0608a573acd"
            ]
          }
        },
        "9c245451e4c54b0dacc7f37569773eea": {
          "model_module": "@jupyter-widgets/base",
          "model_name": "LayoutModel",
          "state": {
            "_view_name": "LayoutView",
            "grid_template_rows": null,
            "right": null,
            "justify_content": null,
            "_view_module": "@jupyter-widgets/base",
            "overflow": null,
            "_model_module_version": "1.2.0",
            "_view_count": null,
            "flex_flow": null,
            "width": null,
            "min_width": null,
            "border": null,
            "align_items": null,
            "bottom": null,
            "_model_module": "@jupyter-widgets/base",
            "top": null,
            "grid_column": null,
            "overflow_y": null,
            "overflow_x": null,
            "grid_auto_flow": null,
            "grid_area": null,
            "grid_template_columns": null,
            "flex": null,
            "_model_name": "LayoutModel",
            "justify_items": null,
            "grid_row": null,
            "max_height": null,
            "align_content": null,
            "visibility": null,
            "align_self": null,
            "height": null,
            "min_height": null,
            "padding": null,
            "grid_auto_rows": null,
            "grid_gap": null,
            "max_width": null,
            "order": null,
            "_view_module_version": "1.2.0",
            "grid_template_areas": null,
            "object_position": null,
            "object_fit": null,
            "grid_auto_columns": null,
            "margin": null,
            "display": null,
            "left": null
          }
        },
        "77490256db8f4716b0f28eb152ed2b25": {
          "model_module": "@jupyter-widgets/controls",
          "model_name": "FloatProgressModel",
          "state": {
            "_view_name": "ProgressView",
            "style": "IPY_MODEL_924f640e5d1940a588ede7c211812153",
            "_dom_classes": [],
            "description": "",
            "_model_name": "FloatProgressModel",
            "bar_style": "success",
            "max": 1,
            "_view_module": "@jupyter-widgets/controls",
            "_model_module_version": "1.5.0",
            "value": 1,
            "_view_count": null,
            "_view_module_version": "1.5.0",
            "orientation": "horizontal",
            "min": 0,
            "description_tooltip": null,
            "_model_module": "@jupyter-widgets/controls",
            "layout": "IPY_MODEL_a9b97821d9114e17890be65b8f33fb08"
          }
        },
        "2d8d48d6df2740b2bb15c0608a573acd": {
          "model_module": "@jupyter-widgets/controls",
          "model_name": "HTMLModel",
          "state": {
            "_view_name": "HTMLView",
            "style": "IPY_MODEL_634a1fd0d9164e9a93d4f0162daa390a",
            "_dom_classes": [],
            "description": "",
            "_model_name": "HTMLModel",
            "placeholder": "​",
            "_view_module": "@jupyter-widgets/controls",
            "_model_module_version": "1.5.0",
            "value": " 32768/? [00:00&lt;00:00, 325026.97it/s]",
            "_view_count": null,
            "_view_module_version": "1.5.0",
            "description_tooltip": null,
            "_model_module": "@jupyter-widgets/controls",
            "layout": "IPY_MODEL_4fa5ff0b55a4435cb66e8ea76ab6d39a"
          }
        },
        "924f640e5d1940a588ede7c211812153": {
          "model_module": "@jupyter-widgets/controls",
          "model_name": "ProgressStyleModel",
          "state": {
            "_view_name": "StyleView",
            "_model_name": "ProgressStyleModel",
            "description_width": "initial",
            "_view_module": "@jupyter-widgets/base",
            "_model_module_version": "1.5.0",
            "_view_count": null,
            "_view_module_version": "1.2.0",
            "bar_color": null,
            "_model_module": "@jupyter-widgets/controls"
          }
        },
        "a9b97821d9114e17890be65b8f33fb08": {
          "model_module": "@jupyter-widgets/base",
          "model_name": "LayoutModel",
          "state": {
            "_view_name": "LayoutView",
            "grid_template_rows": null,
            "right": null,
            "justify_content": null,
            "_view_module": "@jupyter-widgets/base",
            "overflow": null,
            "_model_module_version": "1.2.0",
            "_view_count": null,
            "flex_flow": null,
            "width": null,
            "min_width": null,
            "border": null,
            "align_items": null,
            "bottom": null,
            "_model_module": "@jupyter-widgets/base",
            "top": null,
            "grid_column": null,
            "overflow_y": null,
            "overflow_x": null,
            "grid_auto_flow": null,
            "grid_area": null,
            "grid_template_columns": null,
            "flex": null,
            "_model_name": "LayoutModel",
            "justify_items": null,
            "grid_row": null,
            "max_height": null,
            "align_content": null,
            "visibility": null,
            "align_self": null,
            "height": null,
            "min_height": null,
            "padding": null,
            "grid_auto_rows": null,
            "grid_gap": null,
            "max_width": null,
            "order": null,
            "_view_module_version": "1.2.0",
            "grid_template_areas": null,
            "object_position": null,
            "object_fit": null,
            "grid_auto_columns": null,
            "margin": null,
            "display": null,
            "left": null
          }
        },
        "634a1fd0d9164e9a93d4f0162daa390a": {
          "model_module": "@jupyter-widgets/controls",
          "model_name": "DescriptionStyleModel",
          "state": {
            "_view_name": "StyleView",
            "_model_name": "DescriptionStyleModel",
            "description_width": "",
            "_view_module": "@jupyter-widgets/base",
            "_model_module_version": "1.5.0",
            "_view_count": null,
            "_view_module_version": "1.2.0",
            "_model_module": "@jupyter-widgets/controls"
          }
        },
        "4fa5ff0b55a4435cb66e8ea76ab6d39a": {
          "model_module": "@jupyter-widgets/base",
          "model_name": "LayoutModel",
          "state": {
            "_view_name": "LayoutView",
            "grid_template_rows": null,
            "right": null,
            "justify_content": null,
            "_view_module": "@jupyter-widgets/base",
            "overflow": null,
            "_model_module_version": "1.2.0",
            "_view_count": null,
            "flex_flow": null,
            "width": null,
            "min_width": null,
            "border": null,
            "align_items": null,
            "bottom": null,
            "_model_module": "@jupyter-widgets/base",
            "top": null,
            "grid_column": null,
            "overflow_y": null,
            "overflow_x": null,
            "grid_auto_flow": null,
            "grid_area": null,
            "grid_template_columns": null,
            "flex": null,
            "_model_name": "LayoutModel",
            "justify_items": null,
            "grid_row": null,
            "max_height": null,
            "align_content": null,
            "visibility": null,
            "align_self": null,
            "height": null,
            "min_height": null,
            "padding": null,
            "grid_auto_rows": null,
            "grid_gap": null,
            "max_width": null,
            "order": null,
            "_view_module_version": "1.2.0",
            "grid_template_areas": null,
            "object_position": null,
            "object_fit": null,
            "grid_auto_columns": null,
            "margin": null,
            "display": null,
            "left": null
          }
        },
        "e2ac1285e4f64cd48f0a4094c911c866": {
          "model_module": "@jupyter-widgets/controls",
          "model_name": "HBoxModel",
          "state": {
            "_view_name": "HBoxView",
            "_dom_classes": [],
            "_model_name": "HBoxModel",
            "_view_module": "@jupyter-widgets/controls",
            "_model_module_version": "1.5.0",
            "_view_count": null,
            "_view_module_version": "1.5.0",
            "box_style": "",
            "layout": "IPY_MODEL_18685eabcc7349908cb395367cbd7c15",
            "_model_module": "@jupyter-widgets/controls",
            "children": [
              "IPY_MODEL_3b5a8ec7616447acb2dd82fbf6177c24",
              "IPY_MODEL_c9bf26309692419c88da6caa4ba41bd0"
            ]
          }
        },
        "18685eabcc7349908cb395367cbd7c15": {
          "model_module": "@jupyter-widgets/base",
          "model_name": "LayoutModel",
          "state": {
            "_view_name": "LayoutView",
            "grid_template_rows": null,
            "right": null,
            "justify_content": null,
            "_view_module": "@jupyter-widgets/base",
            "overflow": null,
            "_model_module_version": "1.2.0",
            "_view_count": null,
            "flex_flow": null,
            "width": null,
            "min_width": null,
            "border": null,
            "align_items": null,
            "bottom": null,
            "_model_module": "@jupyter-widgets/base",
            "top": null,
            "grid_column": null,
            "overflow_y": null,
            "overflow_x": null,
            "grid_auto_flow": null,
            "grid_area": null,
            "grid_template_columns": null,
            "flex": null,
            "_model_name": "LayoutModel",
            "justify_items": null,
            "grid_row": null,
            "max_height": null,
            "align_content": null,
            "visibility": null,
            "align_self": null,
            "height": null,
            "min_height": null,
            "padding": null,
            "grid_auto_rows": null,
            "grid_gap": null,
            "max_width": null,
            "order": null,
            "_view_module_version": "1.2.0",
            "grid_template_areas": null,
            "object_position": null,
            "object_fit": null,
            "grid_auto_columns": null,
            "margin": null,
            "display": null,
            "left": null
          }
        },
        "3b5a8ec7616447acb2dd82fbf6177c24": {
          "model_module": "@jupyter-widgets/controls",
          "model_name": "FloatProgressModel",
          "state": {
            "_view_name": "ProgressView",
            "style": "IPY_MODEL_a19e979f3987460db125dfd2875afdbd",
            "_dom_classes": [],
            "description": "",
            "_model_name": "FloatProgressModel",
            "bar_style": "success",
            "max": 1,
            "_view_module": "@jupyter-widgets/controls",
            "_model_module_version": "1.5.0",
            "value": 1,
            "_view_count": null,
            "_view_module_version": "1.5.0",
            "orientation": "horizontal",
            "min": 0,
            "description_tooltip": null,
            "_model_module": "@jupyter-widgets/controls",
            "layout": "IPY_MODEL_53c2e634c72842f1a330df708a433d40"
          }
        },
        "c9bf26309692419c88da6caa4ba41bd0": {
          "model_module": "@jupyter-widgets/controls",
          "model_name": "HTMLModel",
          "state": {
            "_view_name": "HTMLView",
            "style": "IPY_MODEL_d9b047e1703e4038bdd7e59db2f0ceb8",
            "_dom_classes": [],
            "description": "",
            "_model_name": "HTMLModel",
            "placeholder": "​",
            "_view_module": "@jupyter-widgets/controls",
            "_model_module_version": "1.5.0",
            "value": " 1654784/? [00:06&lt;00:00, 263149.92it/s]",
            "_view_count": null,
            "_view_module_version": "1.5.0",
            "description_tooltip": null,
            "_model_module": "@jupyter-widgets/controls",
            "layout": "IPY_MODEL_c1d4a9d81b504c25b02245c17184d14f"
          }
        },
        "a19e979f3987460db125dfd2875afdbd": {
          "model_module": "@jupyter-widgets/controls",
          "model_name": "ProgressStyleModel",
          "state": {
            "_view_name": "StyleView",
            "_model_name": "ProgressStyleModel",
            "description_width": "initial",
            "_view_module": "@jupyter-widgets/base",
            "_model_module_version": "1.5.0",
            "_view_count": null,
            "_view_module_version": "1.2.0",
            "bar_color": null,
            "_model_module": "@jupyter-widgets/controls"
          }
        },
        "53c2e634c72842f1a330df708a433d40": {
          "model_module": "@jupyter-widgets/base",
          "model_name": "LayoutModel",
          "state": {
            "_view_name": "LayoutView",
            "grid_template_rows": null,
            "right": null,
            "justify_content": null,
            "_view_module": "@jupyter-widgets/base",
            "overflow": null,
            "_model_module_version": "1.2.0",
            "_view_count": null,
            "flex_flow": null,
            "width": null,
            "min_width": null,
            "border": null,
            "align_items": null,
            "bottom": null,
            "_model_module": "@jupyter-widgets/base",
            "top": null,
            "grid_column": null,
            "overflow_y": null,
            "overflow_x": null,
            "grid_auto_flow": null,
            "grid_area": null,
            "grid_template_columns": null,
            "flex": null,
            "_model_name": "LayoutModel",
            "justify_items": null,
            "grid_row": null,
            "max_height": null,
            "align_content": null,
            "visibility": null,
            "align_self": null,
            "height": null,
            "min_height": null,
            "padding": null,
            "grid_auto_rows": null,
            "grid_gap": null,
            "max_width": null,
            "order": null,
            "_view_module_version": "1.2.0",
            "grid_template_areas": null,
            "object_position": null,
            "object_fit": null,
            "grid_auto_columns": null,
            "margin": null,
            "display": null,
            "left": null
          }
        },
        "d9b047e1703e4038bdd7e59db2f0ceb8": {
          "model_module": "@jupyter-widgets/controls",
          "model_name": "DescriptionStyleModel",
          "state": {
            "_view_name": "StyleView",
            "_model_name": "DescriptionStyleModel",
            "description_width": "",
            "_view_module": "@jupyter-widgets/base",
            "_model_module_version": "1.5.0",
            "_view_count": null,
            "_view_module_version": "1.2.0",
            "_model_module": "@jupyter-widgets/controls"
          }
        },
        "c1d4a9d81b504c25b02245c17184d14f": {
          "model_module": "@jupyter-widgets/base",
          "model_name": "LayoutModel",
          "state": {
            "_view_name": "LayoutView",
            "grid_template_rows": null,
            "right": null,
            "justify_content": null,
            "_view_module": "@jupyter-widgets/base",
            "overflow": null,
            "_model_module_version": "1.2.0",
            "_view_count": null,
            "flex_flow": null,
            "width": null,
            "min_width": null,
            "border": null,
            "align_items": null,
            "bottom": null,
            "_model_module": "@jupyter-widgets/base",
            "top": null,
            "grid_column": null,
            "overflow_y": null,
            "overflow_x": null,
            "grid_auto_flow": null,
            "grid_area": null,
            "grid_template_columns": null,
            "flex": null,
            "_model_name": "LayoutModel",
            "justify_items": null,
            "grid_row": null,
            "max_height": null,
            "align_content": null,
            "visibility": null,
            "align_self": null,
            "height": null,
            "min_height": null,
            "padding": null,
            "grid_auto_rows": null,
            "grid_gap": null,
            "max_width": null,
            "order": null,
            "_view_module_version": "1.2.0",
            "grid_template_areas": null,
            "object_position": null,
            "object_fit": null,
            "grid_auto_columns": null,
            "margin": null,
            "display": null,
            "left": null
          }
        },
        "1093ded0f4244bdfafa6ba7bcaf09872": {
          "model_module": "@jupyter-widgets/controls",
          "model_name": "HBoxModel",
          "state": {
            "_view_name": "HBoxView",
            "_dom_classes": [],
            "_model_name": "HBoxModel",
            "_view_module": "@jupyter-widgets/controls",
            "_model_module_version": "1.5.0",
            "_view_count": null,
            "_view_module_version": "1.5.0",
            "box_style": "",
            "layout": "IPY_MODEL_6165d1ec257247988ef0c3dfa88e0a10",
            "_model_module": "@jupyter-widgets/controls",
            "children": [
              "IPY_MODEL_4722e4885d9f4826b6dee5c26f247b3e",
              "IPY_MODEL_1ea994ac475d40b284e8ae958260cf51"
            ]
          }
        },
        "6165d1ec257247988ef0c3dfa88e0a10": {
          "model_module": "@jupyter-widgets/base",
          "model_name": "LayoutModel",
          "state": {
            "_view_name": "LayoutView",
            "grid_template_rows": null,
            "right": null,
            "justify_content": null,
            "_view_module": "@jupyter-widgets/base",
            "overflow": null,
            "_model_module_version": "1.2.0",
            "_view_count": null,
            "flex_flow": null,
            "width": null,
            "min_width": null,
            "border": null,
            "align_items": null,
            "bottom": null,
            "_model_module": "@jupyter-widgets/base",
            "top": null,
            "grid_column": null,
            "overflow_y": null,
            "overflow_x": null,
            "grid_auto_flow": null,
            "grid_area": null,
            "grid_template_columns": null,
            "flex": null,
            "_model_name": "LayoutModel",
            "justify_items": null,
            "grid_row": null,
            "max_height": null,
            "align_content": null,
            "visibility": null,
            "align_self": null,
            "height": null,
            "min_height": null,
            "padding": null,
            "grid_auto_rows": null,
            "grid_gap": null,
            "max_width": null,
            "order": null,
            "_view_module_version": "1.2.0",
            "grid_template_areas": null,
            "object_position": null,
            "object_fit": null,
            "grid_auto_columns": null,
            "margin": null,
            "display": null,
            "left": null
          }
        },
        "4722e4885d9f4826b6dee5c26f247b3e": {
          "model_module": "@jupyter-widgets/controls",
          "model_name": "FloatProgressModel",
          "state": {
            "_view_name": "ProgressView",
            "style": "IPY_MODEL_1796b015513447fbb6e27052e17fdcd5",
            "_dom_classes": [],
            "description": "",
            "_model_name": "FloatProgressModel",
            "bar_style": "success",
            "max": 1,
            "_view_module": "@jupyter-widgets/controls",
            "_model_module_version": "1.5.0",
            "value": 1,
            "_view_count": null,
            "_view_module_version": "1.5.0",
            "orientation": "horizontal",
            "min": 0,
            "description_tooltip": null,
            "_model_module": "@jupyter-widgets/controls",
            "layout": "IPY_MODEL_87d305738f2b4cddb402b8f70d720f49"
          }
        },
        "1ea994ac475d40b284e8ae958260cf51": {
          "model_module": "@jupyter-widgets/controls",
          "model_name": "HTMLModel",
          "state": {
            "_view_name": "HTMLView",
            "style": "IPY_MODEL_0d6620217467475bb14cff44c812891e",
            "_dom_classes": [],
            "description": "",
            "_model_name": "HTMLModel",
            "placeholder": "​",
            "_view_module": "@jupyter-widgets/controls",
            "_model_module_version": "1.5.0",
            "value": " 8192/? [00:06&lt;00:00, 1349.45it/s]",
            "_view_count": null,
            "_view_module_version": "1.5.0",
            "description_tooltip": null,
            "_model_module": "@jupyter-widgets/controls",
            "layout": "IPY_MODEL_1034b32a166046aaa9420347f283e2b4"
          }
        },
        "1796b015513447fbb6e27052e17fdcd5": {
          "model_module": "@jupyter-widgets/controls",
          "model_name": "ProgressStyleModel",
          "state": {
            "_view_name": "StyleView",
            "_model_name": "ProgressStyleModel",
            "description_width": "initial",
            "_view_module": "@jupyter-widgets/base",
            "_model_module_version": "1.5.0",
            "_view_count": null,
            "_view_module_version": "1.2.0",
            "bar_color": null,
            "_model_module": "@jupyter-widgets/controls"
          }
        },
        "87d305738f2b4cddb402b8f70d720f49": {
          "model_module": "@jupyter-widgets/base",
          "model_name": "LayoutModel",
          "state": {
            "_view_name": "LayoutView",
            "grid_template_rows": null,
            "right": null,
            "justify_content": null,
            "_view_module": "@jupyter-widgets/base",
            "overflow": null,
            "_model_module_version": "1.2.0",
            "_view_count": null,
            "flex_flow": null,
            "width": null,
            "min_width": null,
            "border": null,
            "align_items": null,
            "bottom": null,
            "_model_module": "@jupyter-widgets/base",
            "top": null,
            "grid_column": null,
            "overflow_y": null,
            "overflow_x": null,
            "grid_auto_flow": null,
            "grid_area": null,
            "grid_template_columns": null,
            "flex": null,
            "_model_name": "LayoutModel",
            "justify_items": null,
            "grid_row": null,
            "max_height": null,
            "align_content": null,
            "visibility": null,
            "align_self": null,
            "height": null,
            "min_height": null,
            "padding": null,
            "grid_auto_rows": null,
            "grid_gap": null,
            "max_width": null,
            "order": null,
            "_view_module_version": "1.2.0",
            "grid_template_areas": null,
            "object_position": null,
            "object_fit": null,
            "grid_auto_columns": null,
            "margin": null,
            "display": null,
            "left": null
          }
        },
        "0d6620217467475bb14cff44c812891e": {
          "model_module": "@jupyter-widgets/controls",
          "model_name": "DescriptionStyleModel",
          "state": {
            "_view_name": "StyleView",
            "_model_name": "DescriptionStyleModel",
            "description_width": "",
            "_view_module": "@jupyter-widgets/base",
            "_model_module_version": "1.5.0",
            "_view_count": null,
            "_view_module_version": "1.2.0",
            "_model_module": "@jupyter-widgets/controls"
          }
        },
        "1034b32a166046aaa9420347f283e2b4": {
          "model_module": "@jupyter-widgets/base",
          "model_name": "LayoutModel",
          "state": {
            "_view_name": "LayoutView",
            "grid_template_rows": null,
            "right": null,
            "justify_content": null,
            "_view_module": "@jupyter-widgets/base",
            "overflow": null,
            "_model_module_version": "1.2.0",
            "_view_count": null,
            "flex_flow": null,
            "width": null,
            "min_width": null,
            "border": null,
            "align_items": null,
            "bottom": null,
            "_model_module": "@jupyter-widgets/base",
            "top": null,
            "grid_column": null,
            "overflow_y": null,
            "overflow_x": null,
            "grid_auto_flow": null,
            "grid_area": null,
            "grid_template_columns": null,
            "flex": null,
            "_model_name": "LayoutModel",
            "justify_items": null,
            "grid_row": null,
            "max_height": null,
            "align_content": null,
            "visibility": null,
            "align_self": null,
            "height": null,
            "min_height": null,
            "padding": null,
            "grid_auto_rows": null,
            "grid_gap": null,
            "max_width": null,
            "order": null,
            "_view_module_version": "1.2.0",
            "grid_template_areas": null,
            "object_position": null,
            "object_fit": null,
            "grid_auto_columns": null,
            "margin": null,
            "display": null,
            "left": null
          }
        }
      }
    }
  },
  "cells": [
    {
      "cell_type": "markdown",
      "metadata": {
        "id": "view-in-github",
        "colab_type": "text"
      },
      "source": [
        "<a href=\"https://colab.research.google.com/github/zhichunqi/Deep-Learning-HW/blob/master/Homework4_Zhichun_Qi.ipynb\" target=\"_parent\"><img src=\"https://colab.research.google.com/assets/colab-badge.svg\" alt=\"Open In Colab\"/></a>"
      ]
    },
    {
      "cell_type": "code",
      "metadata": {
        "id": "RD5527HUwVs7"
      },
      "source": [
        "import torch\n",
        "from torch import nn\n",
        "\n",
        "import numpy\n",
        "\n",
        "import math\n",
        "\n",
        "import matplotlib.pyplot as plt\n"
      ],
      "execution_count": 5,
      "outputs": []
    },
    {
      "cell_type": "code",
      "metadata": {
        "id": "wOWISdV3xKBy",
        "outputId": "b7098795-fbd9-4d4c-e34e-5594cf2674d1",
        "colab": {
          "base_uri": "https://localhost:8080/"
        }
      },
      "source": [
        "torch.manual_seed(111)"
      ],
      "execution_count": 6,
      "outputs": [
        {
          "output_type": "execute_result",
          "data": {
            "text/plain": [
              "<torch._C.Generator at 0x7f932d3fd618>"
            ]
          },
          "metadata": {
            "tags": []
          },
          "execution_count": 6
        }
      ]
    },
    {
      "cell_type": "code",
      "metadata": {
        "id": "qRVNeCJTxNnP"
      },
      "source": [
        "train_data_length = 1024\n",
        "train_data = torch.zeros((train_data_length, 2))\n",
        "train_data[:, 0] = 2 * math.pi * torch.rand(train_data_length)\n",
        "train_data[:, 1] = torch.sin(train_data[:, 0])\n",
        "train_labels = torch.zeros(train_data_length)\n",
        "train_set = [(train_data[i], train_labels[i]) for i in range(train_data_length)]"
      ],
      "execution_count": 7,
      "outputs": []
    },
    {
      "cell_type": "code",
      "metadata": {
        "id": "5Wr5NjQvxcwj",
        "outputId": "421807ec-07d8-481b-dfc6-a721f2e2b79b",
        "colab": {
          "base_uri": "https://localhost:8080/",
          "height": 282
        }
      },
      "source": [
        "plt.plot(train_data[:, 0], train_data[:, 1], \".\")"
      ],
      "execution_count": 8,
      "outputs": [
        {
          "output_type": "execute_result",
          "data": {
            "text/plain": [
              "[<matplotlib.lines.Line2D at 0x7f92e0464668>]"
            ]
          },
          "metadata": {
            "tags": []
          },
          "execution_count": 8
        },
        {
          "output_type": "display_data",
          "data": {
            "image/png": "[encoded data removed]",
            "text/plain": [
              "<Figure size 432x288 with 1 Axes>"
            ]
          },
          "metadata": {
            "tags": [],
            "needs_background": "light"
          }
        }
      ]
    },
    {
      "cell_type": "code",
      "metadata": {
        "id": "Fkgi1ZRWxgGY"
      },
      "source": [
        "batch_size = 32\n",
        "train_loader = torch.utils.data.DataLoader(\n",
        "    train_set, batch_size=batch_size, shuffle=True\n",
        ")"
      ],
      "execution_count": 9,
      "outputs": []
    },
    {
      "cell_type": "markdown",
      "metadata": {
        "id": "DPmoRuF7xkOf"
      },
      "source": [
        "Implementing the Discriminator"
      ]
    },
    {
      "cell_type": "code",
      "metadata": {
        "id": "mmEZ3pvOxnL4"
      },
      "source": [
        "class Discriminator(nn.Module):\n",
        "    def __init__(self):\n",
        "       super().__init__()\n",
        "       self.model = nn.Sequential(\n",
        "            nn.Linear(2, 256),\n",
        "            nn.ReLU(),\n",
        "            nn.Dropout(0.3),\n",
        "            nn.Linear(256, 128),\n",
        "            nn.ReLU(),\n",
        "            nn.Dropout(0.3),\n",
        "            nn.Linear(128, 64),\n",
        "            nn.ReLU(),\n",
        "            nn.Dropout(0.3),\n",
        "            nn.Linear(64, 1),\n",
        "            nn.Sigmoid(),\n",
        "        )\n",
        "\n",
        "    def forward(self, x):\n",
        "        output = self.model(x)\n",
        "        return output"
      ],
      "execution_count": 10,
      "outputs": []
    },
    {
      "cell_type": "code",
      "metadata": {
        "id": "dxsKzxLTx7Qh"
      },
      "source": [
        "discriminator = Discriminator()"
      ],
      "execution_count": 11,
      "outputs": []
    },
    {
      "cell_type": "markdown",
      "metadata": {
        "id": "Injt2ySix_cH"
      },
      "source": [
        "Implementing the Generator"
      ]
    },
    {
      "cell_type": "code",
      "metadata": {
        "id": "YF7eqZ7uyARn"
      },
      "source": [
        "class Generator(nn.Module):\n",
        "    def __init__(self):\n",
        "        super().__init__()\n",
        "        self.model = nn.Sequential(\n",
        "           nn.Linear(2, 16),\n",
        "           nn.ReLU(),\n",
        "           nn.Linear(16, 32),\n",
        "           nn.ReLU(),\n",
        "           nn.Linear(32, 2),\n",
        "        )\n",
        "\n",
        "    def forward(self, x):\n",
        "        output = self.model(x)\n",
        "        return output\n",
        "\n",
        "generator = Generator()"
      ],
      "execution_count": 12,
      "outputs": []
    },
    {
      "cell_type": "markdown",
      "metadata": {
        "id": "A7yfETJQyN_c"
      },
      "source": [
        "Training the Models"
      ]
    },
    {
      "cell_type": "code",
      "metadata": {
        "id": "wrytpprSyOuA"
      },
      "source": [
        "lr = 0.001\n",
        "num_epochs = 300\n",
        "loss_function = nn.BCELoss()"
      ],
      "execution_count": 13,
      "outputs": []
    },
    {
      "cell_type": "code",
      "metadata": {
        "id": "Fwg5XM-KyQ4k"
      },
      "source": [
        "optimizer_discriminator = torch.optim.Adam(discriminator.parameters(), lr=lr)\n",
        "optimizer_generator = torch.optim.Adam(generator.parameters(), lr=lr)"
      ],
      "execution_count": 14,
      "outputs": []
    },
    {
      "cell_type": "code",
      "metadata": {
        "id": "7FFAahfmyd9J",
        "outputId": "1f3b21b8-4802-4e3a-931f-2f7274139e73",
        "colab": {
          "base_uri": "https://localhost:8080/"
        }
      },
      "source": [
        "for epoch in range(num_epochs):\n",
        "    for n, (real_samples, _) in enumerate(train_loader):\n",
        "        # Data for training the discriminator\n",
        "        real_samples_labels = torch.ones((batch_size, 1))\n",
        "        latent_space_samples = torch.randn((batch_size, 2))\n",
        "        generated_samples = generator(latent_space_samples)\n",
        "        generated_samples_labels = torch.zeros((batch_size, 1))\n",
        "        all_samples = torch.cat((real_samples, generated_samples))\n",
        "        all_samples_labels = torch.cat(\n",
        "            (real_samples_labels, generated_samples_labels)\n",
        "        )\n",
        " \n",
        "        # Training the discriminator\n",
        "        discriminator.zero_grad()\n",
        "        output_discriminator = discriminator(all_samples)\n",
        "        loss_discriminator = loss_function(\n",
        "            output_discriminator, all_samples_labels)\n",
        "        loss_discriminator.backward()\n",
        "        optimizer_discriminator.step()\n",
        "\n",
        "        # Data for training the generator\n",
        "        latent_space_samples = torch.randn((batch_size, 2))\n",
        "\n",
        "        # Training the generator\n",
        "        generator.zero_grad()\n",
        "        generated_samples = generator(latent_space_samples)\n",
        "        output_discriminator_generated = discriminator(generated_samples)\n",
        "        loss_generator = loss_function(\n",
        "            output_discriminator_generated, real_samples_labels\n",
        "        )\n",
        "        loss_generator.backward()\n",
        "        optimizer_generator.step()\n",
        "\n",
        "        # Show loss\n",
        "        if epoch % 10 == 0 and n == batch_size - 1:\n",
        "            print(f\"Epoch: {epoch} Loss D.: {loss_discriminator}\")\n",
        "            print(f\"Epoch: {epoch} Loss G.: {loss_generator}\")"
      ],
      "execution_count": 15,
      "outputs": [
        {
          "output_type": "stream",
          "text": [
            "Epoch: 0 Loss D.: 0.19172890484333038\n",
            "Epoch: 0 Loss G.: 2.205277681350708\n",
            "Epoch: 10 Loss D.: 0.6455698013305664\n",
            "Epoch: 10 Loss G.: 0.8941397666931152\n",
            "Epoch: 20 Loss D.: 0.6456489562988281\n",
            "Epoch: 20 Loss G.: 0.8919371366500854\n",
            "Epoch: 30 Loss D.: 0.6728670597076416\n",
            "Epoch: 30 Loss G.: 0.8778129816055298\n",
            "Epoch: 40 Loss D.: 0.6325268745422363\n",
            "Epoch: 40 Loss G.: 0.702785849571228\n",
            "Epoch: 50 Loss D.: 0.6204653978347778\n",
            "Epoch: 50 Loss G.: 0.9101289510726929\n",
            "Epoch: 60 Loss D.: 0.5522268414497375\n",
            "Epoch: 60 Loss G.: 0.9904371500015259\n",
            "Epoch: 70 Loss D.: 0.5903010964393616\n",
            "Epoch: 70 Loss G.: 1.0225229263305664\n",
            "Epoch: 80 Loss D.: 0.6235218048095703\n",
            "Epoch: 80 Loss G.: 0.9041709899902344\n",
            "Epoch: 90 Loss D.: 0.6744253039360046\n",
            "Epoch: 90 Loss G.: 0.8965575695037842\n",
            "Epoch: 100 Loss D.: 0.6881913542747498\n",
            "Epoch: 100 Loss G.: 1.1556098461151123\n",
            "Epoch: 110 Loss D.: 0.6485523581504822\n",
            "Epoch: 110 Loss G.: 0.7771891951560974\n",
            "Epoch: 120 Loss D.: 0.6140218377113342\n",
            "Epoch: 120 Loss G.: 0.8845400214195251\n",
            "Epoch: 130 Loss D.: 0.6125869750976562\n",
            "Epoch: 130 Loss G.: 0.8310216665267944\n",
            "Epoch: 140 Loss D.: 0.6674470901489258\n",
            "Epoch: 140 Loss G.: 0.7617863416671753\n",
            "Epoch: 150 Loss D.: 0.7807609438896179\n",
            "Epoch: 150 Loss G.: 0.739361584186554\n",
            "Epoch: 160 Loss D.: 0.6637596487998962\n",
            "Epoch: 160 Loss G.: 0.7304242849349976\n",
            "Epoch: 170 Loss D.: 0.7724139094352722\n",
            "Epoch: 170 Loss G.: 0.7749279737472534\n",
            "Epoch: 180 Loss D.: 0.6405274271965027\n",
            "Epoch: 180 Loss G.: 0.7835613489151001\n",
            "Epoch: 190 Loss D.: 0.706099271774292\n",
            "Epoch: 190 Loss G.: 0.698054313659668\n",
            "Epoch: 200 Loss D.: 0.6278105974197388\n",
            "Epoch: 200 Loss G.: 0.8709835410118103\n",
            "Epoch: 210 Loss D.: 0.6442293524742126\n",
            "Epoch: 210 Loss G.: 1.1352570056915283\n",
            "Epoch: 220 Loss D.: 0.6132981777191162\n",
            "Epoch: 220 Loss G.: 0.8672422170639038\n",
            "Epoch: 230 Loss D.: 0.7033081650733948\n",
            "Epoch: 230 Loss G.: 0.6989192366600037\n",
            "Epoch: 240 Loss D.: 0.6998447179794312\n",
            "Epoch: 240 Loss G.: 0.7135035991668701\n",
            "Epoch: 250 Loss D.: 0.7621429562568665\n",
            "Epoch: 250 Loss G.: 0.8799213767051697\n",
            "Epoch: 260 Loss D.: 0.7901245951652527\n",
            "Epoch: 260 Loss G.: 0.9585984945297241\n",
            "Epoch: 270 Loss D.: 0.6689623594284058\n",
            "Epoch: 270 Loss G.: 0.712278425693512\n",
            "Epoch: 280 Loss D.: 0.6876071691513062\n",
            "Epoch: 280 Loss G.: 0.8831450343132019\n",
            "Epoch: 290 Loss D.: 0.772131621837616\n",
            "Epoch: 290 Loss G.: 0.7073971629142761\n"
          ],
          "name": "stdout"
        }
      ]
    },
    {
      "cell_type": "markdown",
      "metadata": {
        "id": "V9COljyB3F9x"
      },
      "source": [
        "Results\n"
      ]
    },
    {
      "cell_type": "code",
      "metadata": {
        "id": "8zDo37jU3KUj"
      },
      "source": [
        "latent_space_samples = torch.randn(100, 2)\n",
        "generated_samples = generator(latent_space_samples)"
      ],
      "execution_count": 16,
      "outputs": []
    },
    {
      "cell_type": "code",
      "metadata": {
        "id": "HwxBOlOh3kzt",
        "outputId": "6425f5ef-132f-45e5-9aa9-4b6d20052561",
        "colab": {
          "base_uri": "https://localhost:8080/",
          "height": 282
        }
      },
      "source": [
        "generated_samples = generated_samples.detach()\n",
        "plt.plot(generated_samples[:, 0], generated_samples[:, 1], \".\")"
      ],
      "execution_count": 17,
      "outputs": [
        {
          "output_type": "execute_result",
          "data": {
            "text/plain": [
              "[<matplotlib.lines.Line2D at 0x7f92d7ba27f0>]"
            ]
          },
          "metadata": {
            "tags": []
          },
          "execution_count": 17
        },
        {
          "output_type": "display_data",
          "data": {
            "image/png": "[encoded data removed]",
            "text/plain": [
              "<Figure size 432x288 with 1 Axes>"
            ]
          },
          "metadata": {
            "tags": [],
            "needs_background": "light"
          }
        }
      ]
    },
    {
      "cell_type": "markdown",
      "metadata": {
        "id": "Iz7XlgHW3s3H"
      },
      "source": [
        "Handwritten Digits Generator With a GAN"
      ]
    },
    {
      "cell_type": "code",
      "metadata": {
        "id": "APpeynhL3w7d"
      },
      "source": [
        "import torchvision\n",
        "import torchvision.transforms as transforms\n",
        "\n",
        "import torch\n",
        "from torch import nn\n",
        "\n",
        "import numpy\n",
        "\n",
        "import math\n",
        "\n",
        "import matplotlib.pyplot as plt\n"
      ],
      "execution_count": 18,
      "outputs": []
    },
    {
      "cell_type": "code",
      "metadata": {
        "id": "LAvyTCI_LDuk"
      },
      "source": [
        "#device = \"\"\n",
        "#if torch.cuda.is_available():\n",
        "    #device = torch.device(\"cuda\")\n",
        "#else:\n",
        "    #device = torch.device(\"cpu\")"
      ],
      "execution_count": 16,
      "outputs": []
    },
    {
      "cell_type": "code",
      "metadata": {
        "id": "ee1_fD086YdC",
        "outputId": "e3be242c-9e88-48c2-ab45-25e2627d9a53",
        "colab": {
          "base_uri": "https://localhost:8080/"
        }
      },
      "source": [
        "torch.manual_seed(111)"
      ],
      "execution_count": 19,
      "outputs": [
        {
          "output_type": "execute_result",
          "data": {
            "text/plain": [
              "<torch._C.Generator at 0x7f932d3fd618>"
            ]
          },
          "metadata": {
            "tags": []
          },
          "execution_count": 19
        }
      ]
    },
    {
      "cell_type": "markdown",
      "metadata": {
        "id": "HjZGsGrP6dcn"
      },
      "source": [
        "Preparing the Training Data"
      ]
    },
    {
      "cell_type": "code",
      "metadata": {
        "id": "0hNy_LmK6gCP"
      },
      "source": [
        "transform = transforms.Compose(\n",
        "    [transforms.ToTensor(), transforms.Normalize((0.5,), (0.5,))]\n",
        ")"
      ],
      "execution_count": 20,
      "outputs": []
    },
    {
      "cell_type": "code",
      "metadata": {
        "id": "PcRHO-mm6qyF",
        "outputId": "70357d38-c5ee-461d-f015-8eaa616e88eb",
        "colab": {
          "base_uri": "https://localhost:8080/",
          "height": 386,
          "referenced_widgets": [
            "850103d20d204ddc8ddf5612efe3e2c7",
            "e1c478ee6449447cb7f8d8eeced76eab",
            "921975bf41074f67996bfc92a640161e",
            "07f708a1781f4e0f866dde020dd1a6a2",
            "c9a6065bc4f049eea9129180b219a888",
            "813afff96832418288e9761887680f45",
            "d11e1a30994d421da8a2980fe090ebcc",
            "d176da1fb632453684b63edf66a2f7f7",
            "c99c69a32c0d48a6a830b48fe855889c",
            "9c245451e4c54b0dacc7f37569773eea",
            "77490256db8f4716b0f28eb152ed2b25",
            "2d8d48d6df2740b2bb15c0608a573acd",
            "924f640e5d1940a588ede7c211812153",
            "a9b97821d9114e17890be65b8f33fb08",
            "634a1fd0d9164e9a93d4f0162daa390a",
            "4fa5ff0b55a4435cb66e8ea76ab6d39a",
            "e2ac1285e4f64cd48f0a4094c911c866",
            "18685eabcc7349908cb395367cbd7c15",
            "3b5a8ec7616447acb2dd82fbf6177c24",
            "c9bf26309692419c88da6caa4ba41bd0",
            "a19e979f3987460db125dfd2875afdbd",
            "53c2e634c72842f1a330df708a433d40",
            "d9b047e1703e4038bdd7e59db2f0ceb8",
            "c1d4a9d81b504c25b02245c17184d14f",
            "1093ded0f4244bdfafa6ba7bcaf09872",
            "6165d1ec257247988ef0c3dfa88e0a10",
            "4722e4885d9f4826b6dee5c26f247b3e",
            "1ea994ac475d40b284e8ae958260cf51",
            "1796b015513447fbb6e27052e17fdcd5",
            "87d305738f2b4cddb402b8f70d720f49",
            "0d6620217467475bb14cff44c812891e",
            "1034b32a166046aaa9420347f283e2b4"
          ]
        }
      },
      "source": [
        "train_set = torchvision.datasets.MNIST(\n",
        "    root=\".\", train=True, download=True, transform=transform\n",
        ")"
      ],
      "execution_count": 21,
      "outputs": [
        {
          "output_type": "stream",
          "text": [
            "Downloading http://yann.lecun.com/exdb/mnist/train-images-idx3-ubyte.gz to ./MNIST/raw/train-images-idx3-ubyte.gz\n"
          ],
          "name": "stdout"
        },
        {
          "output_type": "display_data",
          "data": {
            "application/vnd.jupyter.widget-view+json": {
              "model_id": "850103d20d204ddc8ddf5612efe3e2c7",
              "version_minor": 0,
              "version_major": 2
            },
            "text/plain": [
              "HBox(children=(FloatProgress(value=1.0, bar_style='info', max=1.0), HTML(value='')))"
            ]
          },
          "metadata": {
            "tags": []
          }
        },
        {
          "output_type": "stream",
          "text": [
            "Extracting ./MNIST/raw/train-images-idx3-ubyte.gz to ./MNIST/raw\n",
            "Downloading http://yann.lecun.com/exdb/mnist/train-labels-idx1-ubyte.gz to ./MNIST/raw/train-labels-idx1-ubyte.gz\n"
          ],
          "name": "stdout"
        },
        {
          "output_type": "display_data",
          "data": {
            "application/vnd.jupyter.widget-view+json": {
              "model_id": "c99c69a32c0d48a6a830b48fe855889c",
              "version_minor": 0,
              "version_major": 2
            },
            "text/plain": [
              "HBox(children=(FloatProgress(value=1.0, bar_style='info', max=1.0), HTML(value='')))"
            ]
          },
          "metadata": {
            "tags": []
          }
        },
        {
          "output_type": "stream",
          "text": [
            "Extracting ./MNIST/raw/train-labels-idx1-ubyte.gz to ./MNIST/raw\n",
            "Downloading http://yann.lecun.com/exdb/mnist/t10k-images-idx3-ubyte.gz to ./MNIST/raw/t10k-images-idx3-ubyte.gz\n",
            "\n"
          ],
          "name": "stdout"
        },
        {
          "output_type": "display_data",
          "data": {
            "application/vnd.jupyter.widget-view+json": {
              "model_id": "e2ac1285e4f64cd48f0a4094c911c866",
              "version_minor": 0,
              "version_major": 2
            },
            "text/plain": [
              "HBox(children=(FloatProgress(value=1.0, bar_style='info', max=1.0), HTML(value='')))"
            ]
          },
          "metadata": {
            "tags": []
          }
        },
        {
          "output_type": "stream",
          "text": [
            "Extracting ./MNIST/raw/t10k-images-idx3-ubyte.gz to ./MNIST/raw\n",
            "Downloading http://yann.lecun.com/exdb/mnist/t10k-labels-idx1-ubyte.gz to ./MNIST/raw/t10k-labels-idx1-ubyte.gz\n"
          ],
          "name": "stdout"
        },
        {
          "output_type": "display_data",
          "data": {
            "application/vnd.jupyter.widget-view+json": {
              "model_id": "1093ded0f4244bdfafa6ba7bcaf09872",
              "version_minor": 0,
              "version_major": 2
            },
            "text/plain": [
              "HBox(children=(FloatProgress(value=1.0, bar_style='info', max=1.0), HTML(value='')))"
            ]
          },
          "metadata": {
            "tags": []
          }
        },
        {
          "output_type": "stream",
          "text": [
            "Extracting ./MNIST/raw/t10k-labels-idx1-ubyte.gz to ./MNIST/raw\n",
            "Processing...\n",
            "Done!\n"
          ],
          "name": "stdout"
        },
        {
          "output_type": "stream",
          "text": [
            "/usr/local/lib/python3.6/dist-packages/torchvision/datasets/mnist.py:480: UserWarning: The given NumPy array is not writeable, and PyTorch does not support non-writeable tensors. This means you can write to the underlying (supposedly non-writeable) NumPy array using the tensor. You may want to copy the array to protect its data or make it writeable before converting it to a tensor. This type of warning will be suppressed for the rest of this program. (Triggered internally at  /pytorch/torch/csrc/utils/tensor_numpy.cpp:141.)\n",
            "  return torch.from_numpy(parsed.astype(m[2], copy=False)).view(*s)\n"
          ],
          "name": "stderr"
        }
      ]
    },
    {
      "cell_type": "code",
      "metadata": {
        "id": "CqS3j1km7Ar8"
      },
      "source": [
        "batch_size = 32\n",
        "train_loader = torch.utils.data.DataLoader(\n",
        "    train_set, batch_size=batch_size, shuffle=True\n",
        ")"
      ],
      "execution_count": 22,
      "outputs": []
    },
    {
      "cell_type": "code",
      "metadata": {
        "id": "0uzc7_Ah7Dkd",
        "outputId": "f2a99757-78d8-476f-a0ea-3329a9647fcd",
        "colab": {
          "base_uri": "https://localhost:8080/",
          "height": 303
        }
      },
      "source": [
        "real_samples, mnist_labels = next(iter(train_loader))\n",
        "for i in range(16):\n",
        "    ax = plt.subplot(4, 4, i + 1)\n",
        "    plt.imshow(real_samples[i].reshape(28, 28), cmap=\"gray_r\")\n",
        "    plt.xticks([])\n",
        "    plt.yticks([])"
      ],
      "execution_count": 23,
      "outputs": [
        {
          "output_type": "stream",
          "text": [
            "\n",
            "\n",
            "\n"
          ],
          "name": "stdout"
        },
        {
          "output_type": "display_data",
          "data": {
            "image/png": "[encoded data removed]",
            "text/plain": [
              "<Figure size 432x288 with 16 Axes>"
            ]
          },
          "metadata": {
            "tags": []
          }
        }
      ]
    },
    {
      "cell_type": "markdown",
      "metadata": {
        "id": "wj3mC_S37Hir"
      },
      "source": [
        "Implementing the Discriminator and the Generator"
      ]
    },
    {
      "cell_type": "code",
      "metadata": {
        "id": "kQs2fsXKgJ1j"
      },
      "source": [
        "class Discriminator(nn.Module):\n",
        "    def __init__(self):\n",
        "        super().__init__()\n",
        "        self.model = nn.Sequential(\n",
        "            nn.Linear(784, 1024),\n",
        "            nn.ReLU(),\n",
        "            nn.Dropout(0.3),\n",
        "            nn.Linear(1024, 512),\n",
        "            nn.ReLU(),\n",
        "            nn.Dropout(0.3),\n",
        "            nn.Linear(512, 256),\n",
        "            nn.ReLU(),\n",
        "            nn.Dropout(0.3),\n",
        "            nn.Linear(256, 1),\n",
        "            nn.Sigmoid()\n",
        "        )\n",
        "\n",
        "    def forward(self, x):\n",
        "        x = x.view(x.size(0), 784)\n",
        "        output = self.model(x)\n",
        "        return output"
      ],
      "execution_count": 24,
      "outputs": []
    },
    {
      "cell_type": "code",
      "metadata": {
        "id": "6ArwtXNegNhI"
      },
      "source": [
        "discriminator = Discriminator()"
      ],
      "execution_count": 25,
      "outputs": []
    },
    {
      "cell_type": "code",
      "metadata": {
        "id": "lMd-E4-2gRnG"
      },
      "source": [
        "class Generator(nn.Module):\n",
        "    def __init__(self):\n",
        "        super().__init__()\n",
        "        self.model = nn.Sequential(\n",
        "            nn.Linear(100, 256),\n",
        "            nn.ReLU(),\n",
        "            nn.Linear(256, 512),\n",
        "            nn.ReLU(),\n",
        "            nn.Linear(512, 1024),\n",
        "            nn.ReLU(),\n",
        "            nn.Linear(1024, 784),\n",
        "            nn.Tanh()\n",
        "        )\n",
        "\n",
        "    def forward(self, x):\n",
        "        #x = x.view(x.size(0), 100)\n",
        "        output = self.model(x)\n",
        "        output = output.view(x.size(0), 1, 28, 28)\n",
        "        return output"
      ],
      "execution_count": 26,
      "outputs": []
    },
    {
      "cell_type": "code",
      "metadata": {
        "id": "wc8mHUW2gS_W"
      },
      "source": [
        "generator = Generator()"
      ],
      "execution_count": 27,
      "outputs": []
    },
    {
      "cell_type": "markdown",
      "metadata": {
        "id": "r5Eft4P_9OhW"
      },
      "source": [
        "Training the Models"
      ]
    },
    {
      "cell_type": "code",
      "metadata": {
        "id": "xIrKMhrm9Rcx"
      },
      "source": [
        "lr = 0.0001\n",
        "num_epochs = 50\n",
        "loss_function = nn.BCELoss()\n",
        "\n",
        "optimizer_discriminator = torch.optim.Adam(discriminator.parameters(), lr=lr)\n",
        "optimizer_generator = torch.optim.Adam(generator.parameters(), lr=lr)"
      ],
      "execution_count": 28,
      "outputs": []
    },
    {
      "cell_type": "code",
      "metadata": {
        "id": "ES7gDiAZfQ9q"
      },
      "source": [
        "latent_space_samples_plot = torch.randn((16, 100))"
      ],
      "execution_count": 29,
      "outputs": []
    },
    {
      "cell_type": "code",
      "metadata": {
        "id": "2Fp4B02WfzLs",
        "outputId": "52596588-858f-47a6-8beb-0c5ef22682ad",
        "colab": {
          "base_uri": "https://localhost:8080/"
        }
      },
      "source": [
        "import os\n",
        "if os.path.isfile('discriminator.pt') and os.path.isfile('generator.pt'):\n",
        "    discriminator.load_state_dict(torch.load('./discriminator.pt'))\n",
        "    generator.load_state_dict(torch.load('./generator.pt'))   \n",
        "else:\n",
        "    for epoch in range(num_epochs):\n",
        "        for n, (real_samples, mnist_labels) in enumerate(train_loader):\n",
        "            # Data for training the discriminator\n",
        "            real_samples = real_samples\n",
        "            real_samples_labels = torch.ones((batch_size, 1))\n",
        "            latent_space_samples = torch.randn((batch_size, 100))\n",
        "            generated_samples = generator(latent_space_samples)\n",
        "            generated_samples_labels = torch.zeros(\n",
        "                (batch_size, 1))\n",
        "            all_samples = torch.cat((real_samples, generated_samples))\n",
        "            all_samples_labels = torch.cat(\n",
        "                (real_samples_labels, generated_samples_labels))\n",
        "\n",
        "            # Training the discriminator\n",
        "            discriminator.zero_grad()\n",
        "            output_discriminator = discriminator(all_samples)\n",
        "            loss_discriminator = loss_function(\n",
        "                output_discriminator, all_samples_labels)\n",
        "            loss_discriminator.backward()\n",
        "            optimizer_discriminator.step()\n",
        "        \n",
        "            # Data for training the generator\n",
        "            latent_space_samples = torch.randn((batch_size, 100))\n",
        "\n",
        "            # Training the generator            \n",
        "            generator.zero_grad()\n",
        "            generated_samples = generator(latent_space_samples)\n",
        "            output_discriminator_generated = discriminator(generated_samples)\n",
        "            loss_generator = loss_function(\n",
        "                output_discriminator_generated, real_samples_labels)\n",
        "            loss_generator.backward()\n",
        "            optimizer_generator.step()\n",
        "\n",
        "            # Show loss\n",
        "            if n == batch_size - 1:\n",
        "                print(f\"Epoch: {epoch} Loss D.: {loss_discriminator}\")\n",
        "                print(f\"Epoch: {epoch} Loss G.: {loss_generator}\")"
      ],
      "execution_count": 30,
      "outputs": [
        {
          "output_type": "stream",
          "text": [
            "Epoch: 0 Loss D.: 0.5030258893966675\n",
            "Epoch: 0 Loss G.: 0.6034389734268188\n",
            "Epoch: 1 Loss D.: 0.08674430102109909\n",
            "Epoch: 1 Loss G.: 3.751305103302002\n",
            "Epoch: 2 Loss D.: 0.012585395947098732\n",
            "Epoch: 2 Loss G.: 4.828659534454346\n",
            "Epoch: 3 Loss D.: 0.11376103013753891\n",
            "Epoch: 3 Loss G.: 5.0646209716796875\n",
            "Epoch: 4 Loss D.: 0.021278303116559982\n",
            "Epoch: 4 Loss G.: 4.5632147789001465\n",
            "Epoch: 5 Loss D.: 0.06566412001848221\n",
            "Epoch: 5 Loss G.: 4.464053153991699\n",
            "Epoch: 6 Loss D.: 0.11844757944345474\n",
            "Epoch: 6 Loss G.: 5.401515960693359\n",
            "Epoch: 7 Loss D.: 0.27247726917266846\n",
            "Epoch: 7 Loss G.: 3.653215169906616\n",
            "Epoch: 8 Loss D.: 0.10421819239854813\n",
            "Epoch: 8 Loss G.: 3.5051162242889404\n",
            "Epoch: 9 Loss D.: 0.30092722177505493\n",
            "Epoch: 9 Loss G.: 1.9759540557861328\n",
            "Epoch: 10 Loss D.: 0.2058170884847641\n",
            "Epoch: 10 Loss G.: 2.2707860469818115\n",
            "Epoch: 11 Loss D.: 0.3963524401187897\n",
            "Epoch: 11 Loss G.: 1.8459633588790894\n",
            "Epoch: 12 Loss D.: 0.3458704352378845\n",
            "Epoch: 12 Loss G.: 1.9954395294189453\n",
            "Epoch: 13 Loss D.: 0.41997697949409485\n",
            "Epoch: 13 Loss G.: 1.6543855667114258\n",
            "Epoch: 14 Loss D.: 0.3869682252407074\n",
            "Epoch: 14 Loss G.: 1.4753252267837524\n",
            "Epoch: 15 Loss D.: 0.44617703557014465\n",
            "Epoch: 15 Loss G.: 1.674170970916748\n",
            "Epoch: 16 Loss D.: 0.42107492685317993\n",
            "Epoch: 16 Loss G.: 1.3044099807739258\n",
            "Epoch: 17 Loss D.: 0.3968079090118408\n",
            "Epoch: 17 Loss G.: 1.6124310493469238\n",
            "Epoch: 18 Loss D.: 0.3887428641319275\n",
            "Epoch: 18 Loss G.: 1.2151052951812744\n",
            "Epoch: 19 Loss D.: 0.4828684628009796\n",
            "Epoch: 19 Loss G.: 1.3825002908706665\n",
            "Epoch: 20 Loss D.: 0.623282790184021\n",
            "Epoch: 20 Loss G.: 1.065545678138733\n",
            "Epoch: 21 Loss D.: 0.4915054738521576\n",
            "Epoch: 21 Loss G.: 1.1944290399551392\n",
            "Epoch: 22 Loss D.: 0.5449717044830322\n",
            "Epoch: 22 Loss G.: 1.170807123184204\n",
            "Epoch: 23 Loss D.: 0.5107537508010864\n",
            "Epoch: 23 Loss G.: 1.177972674369812\n",
            "Epoch: 24 Loss D.: 0.47341105341911316\n",
            "Epoch: 24 Loss G.: 1.0979524850845337\n",
            "Epoch: 25 Loss D.: 0.573444128036499\n",
            "Epoch: 25 Loss G.: 0.9191689491271973\n",
            "Epoch: 26 Loss D.: 0.49332571029663086\n",
            "Epoch: 26 Loss G.: 1.1256213188171387\n",
            "Epoch: 27 Loss D.: 0.523712694644928\n",
            "Epoch: 27 Loss G.: 0.9819395542144775\n",
            "Epoch: 28 Loss D.: 0.532833456993103\n",
            "Epoch: 28 Loss G.: 1.0127036571502686\n",
            "Epoch: 29 Loss D.: 0.5773013234138489\n",
            "Epoch: 29 Loss G.: 0.9423151016235352\n",
            "Epoch: 30 Loss D.: 0.5177498459815979\n",
            "Epoch: 30 Loss G.: 1.017114520072937\n",
            "Epoch: 31 Loss D.: 0.5598708391189575\n",
            "Epoch: 31 Loss G.: 1.122077226638794\n",
            "Epoch: 32 Loss D.: 0.4797530770301819\n",
            "Epoch: 32 Loss G.: 1.2522542476654053\n",
            "Epoch: 33 Loss D.: 0.5396339893341064\n",
            "Epoch: 33 Loss G.: 0.9680720567703247\n",
            "Epoch: 34 Loss D.: 0.6149322390556335\n",
            "Epoch: 34 Loss G.: 0.9490471482276917\n",
            "Epoch: 35 Loss D.: 0.5673279166221619\n",
            "Epoch: 35 Loss G.: 0.9259665012359619\n",
            "Epoch: 36 Loss D.: 0.5815836191177368\n",
            "Epoch: 36 Loss G.: 1.2299872636795044\n",
            "Epoch: 37 Loss D.: 0.720868706703186\n",
            "Epoch: 37 Loss G.: 1.1304757595062256\n",
            "Epoch: 38 Loss D.: 0.5597836971282959\n",
            "Epoch: 38 Loss G.: 0.9929006099700928\n",
            "Epoch: 39 Loss D.: 0.5767417550086975\n",
            "Epoch: 39 Loss G.: 1.059708833694458\n",
            "Epoch: 40 Loss D.: 0.593234121799469\n",
            "Epoch: 40 Loss G.: 0.9124171137809753\n",
            "Epoch: 41 Loss D.: 0.5628536343574524\n",
            "Epoch: 41 Loss G.: 1.0804369449615479\n",
            "Epoch: 42 Loss D.: 0.5560169816017151\n",
            "Epoch: 42 Loss G.: 1.076561689376831\n",
            "Epoch: 43 Loss D.: 0.6254119277000427\n",
            "Epoch: 43 Loss G.: 0.9790620803833008\n",
            "Epoch: 44 Loss D.: 0.6212934255599976\n",
            "Epoch: 44 Loss G.: 0.968059241771698\n",
            "Epoch: 45 Loss D.: 0.6182287335395813\n",
            "Epoch: 45 Loss G.: 1.084641695022583\n",
            "Epoch: 46 Loss D.: 0.52299964427948\n",
            "Epoch: 46 Loss G.: 1.1272060871124268\n",
            "Epoch: 47 Loss D.: 0.4689943492412567\n",
            "Epoch: 47 Loss G.: 1.0260943174362183\n",
            "Epoch: 48 Loss D.: 0.6187646389007568\n",
            "Epoch: 48 Loss G.: 0.9706878662109375\n",
            "Epoch: 49 Loss D.: 0.5677693486213684\n",
            "Epoch: 49 Loss G.: 0.7906109690666199\n"
          ],
          "name": "stdout"
        }
      ]
    },
    {
      "cell_type": "code",
      "metadata": {
        "id": "S2OhY2OHpfa7",
        "outputId": "af973cdb-64b6-4ee1-c3b3-495c1984b5fd",
        "colab": {
          "base_uri": "https://localhost:8080/",
          "height": 602
        }
      },
      "source": [
        "latent_space_samples = torch.randn(batch_size, 100)\n",
        "\n",
        "generated_samples = generator(latent_space_samples)\n",
        "generated_samples = generated_samples.cpu().detach()\n",
        "\n",
        "plt.figure(dpi=150)\n",
        "for i in range(16):\n",
        "    ax = plt.subplot(4, 4, i+1)\n",
        "    plt.imshow(generated_samples[i].reshape(28, 28), cmap='gray_r')\n",
        "    plt.xticks([])\n",
        "    plt.yticks([])\n",
        "plt.tight_layout()"
      ],
      "execution_count": 31,
      "outputs": [
        {
          "output_type": "display_data",
          "data": {
            "image/png": "[encoded data removed]",
            "text/plain": [
              "<Figure size 900x600 with 16 Axes>"
            ]
          },
          "metadata": {
            "tags": []
          }
        }
      ]
    },
    {
      "cell_type": "code",
      "metadata": {
        "id": "Ide60opv1GAW"
      },
      "source": [
        "# From this code, I know how to implement the GAN model and how to build the fucntions.\n",
        "# In this code, the problem is the coeffients which I calculate wrong. But I find the mistake and correct it.\n",
        "# The system runs very slow and I change the runtime and it runs more faster."
      ],
      "execution_count": null,
      "outputs": []
    }
  ]
}